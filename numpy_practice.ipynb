{
 "cells": [
  {
   "cell_type": "markdown",
   "metadata": {},
   "source": [
    "dont forget to source the environment\n",
    "\n",
    "source <venv>/bin/activate"
   ]
  },
  {
   "cell_type": "code",
   "execution_count": 3,
   "metadata": {},
   "outputs": [
    {
     "name": "stdout",
     "output_type": "stream",
     "text": [
      "np,io,plt and more imported, let's move on\n",
      "0.24.0 3.9.2 8.1.5\n"
     ]
    }
   ],
   "source": [
    "import numpy as np\n",
    "from skimage import io\n",
    "import skimage\n",
    "import matplotlib\n",
    "import matplotlib.pyplot as plt\n",
    "%matplotlib inline\n",
    "from ipywidgets import interact, interactive, fixed, interact_manual\n",
    "import ipywidgets as widgets\n",
    "\n",
    "!echo \"np,io,plt and more imported, let's move on\"\n",
    "print(skimage.__version__, matplotlib.__version__, widgets.__version__)"
   ]
  },
  {
   "cell_type": "code",
   "execution_count": 6,
   "metadata": {},
   "outputs": [
    {
     "name": "stdout",
     "output_type": "stream",
     "text": [
      "[[-3 -8]\n",
      " [ 8 -6]\n",
      " [-5  5]\n",
      " [ 2  5]\n",
      " [ 9  3]\n",
      " [ 2  1]\n",
      " [ 1  5]]\n"
     ]
    }
   ],
   "source": [
    "a = np.random.randint(-10,10, (7,2))"
   ]
  },
  {
   "cell_type": "code",
   "execution_count": 7,
   "metadata": {},
   "outputs": [
    {
     "name": "stdout",
     "output_type": "stream",
     "text": [
      "a=[1 2 3 8]\n",
      "dimension of a is 1 and shape = (4,) where elements are int64\n",
      "a consumes 32 bytes of memory\n"
     ]
    }
   ],
   "source": [
    "a = np.array([1,2,3,8])\n",
    "print(f\"a={a}\")\n",
    "print(f\"dimension of a is {a.ndim} and shape = {a.shape} where elements are {a.dtype}\")\n",
    "print(f\"a consumes {a.nbytes} bytes of memory\")"
   ]
  }
 ],
 "metadata": {
  "kernelspec": {
   "display_name": "Python 3",
   "language": "python",
   "name": "python3"
  },
  "language_info": {
   "codemirror_mode": {
    "name": "ipython",
    "version": 3
   },
   "file_extension": ".py",
   "mimetype": "text/x-python",
   "name": "python",
   "nbconvert_exporter": "python",
   "pygments_lexer": "ipython3",
   "version": "3.10.12"
  }
 },
 "nbformat": 4,
 "nbformat_minor": 2
}
