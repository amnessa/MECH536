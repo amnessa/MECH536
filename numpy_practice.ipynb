{
 "cells": [
  {
   "cell_type": "markdown",
   "metadata": {},
   "source": [
    "dont forget to source the environment\n",
    "\n",
    "source <venv>/bin/activate"
   ]
  },
  {
   "cell_type": "code",
   "execution_count": 2,
   "metadata": {},
   "outputs": [
    {
     "name": "stdout",
     "output_type": "stream",
     "text": [
      "np,io,plt and more imported, let's move on\n",
      "0.24.0 3.9.2 8.1.5\n"
     ]
    }
   ],
   "source": [
    "import numpy as np\n",
    "from skimage import io\n",
    "import skimage\n",
    "import matplotlib\n",
    "import matplotlib.pyplot as plt\n",
    "%matplotlib inline\n",
    "from ipywidgets import interact, interactive, fixed, interact_manual\n",
    "import ipywidgets as widgets\n",
    "\n",
    "!echo \"np,io,plt and more imported, let's move on\"\n",
    "print(skimage.__version__, matplotlib.__version__, widgets.__version__)"
   ]
  },
  {
   "cell_type": "code",
   "execution_count": 3,
   "metadata": {},
   "outputs": [],
   "source": [
    "a = np.random.randint(-10,10, (7,2))"
   ]
  },
  {
   "cell_type": "code",
   "execution_count": 4,
   "metadata": {},
   "outputs": [
    {
     "name": "stdout",
     "output_type": "stream",
     "text": [
      "a=[1 2 3 8]\n",
      "dimension of a is 1 and shape = (4,) where elements are int64\n",
      "a consumes 32 bytes of memory\n"
     ]
    }
   ],
   "source": [
    "a = np.array([1,2,3,8])\n",
    "print(f\"a={a}\")\n",
    "print(f\"dimension of a is {a.ndim} and shape = {a.shape} where elements are {a.dtype}\")\n",
    "print(f\"a consumes {a.nbytes} bytes of memory\")"
   ]
  },
  {
   "cell_type": "code",
   "execution_count": 5,
   "metadata": {},
   "outputs": [
    {
     "name": "stdout",
     "output_type": "stream",
     "text": [
      "B=[[3. 1. 4.]\n",
      " [1. 2. 5.]]\n",
      "dimension of a is 2 and shape = (2, 3) where elements are float64\n",
      "B consumes 48 bytes of memory\n"
     ]
    }
   ],
   "source": [
    "#  observe that only the one element of the array is float\n",
    "\n",
    "B = np.array([[3,1,4],[1,2.,5]])\n",
    "print(f\"B={B}\")\n",
    "print(f\"dimension of a is {B.ndim} and shape = {B.shape} where elements are {B.dtype}\")\n",
    "print(f\"B consumes {B.nbytes} bytes of memory\")"
   ]
  },
  {
   "cell_type": "code",
   "execution_count": 6,
   "metadata": {},
   "outputs": [
    {
     "name": "stdout",
     "output_type": "stream",
     "text": [
      "c= [1 2 3 8]\n",
      "dimension of a is 1 and shape = (4,) where elements are int8\n",
      "c consumes 4 bytes of memory\n"
     ]
    }
   ],
   "source": [
    "# what if I just bytes\n",
    "c = np.array ([1,2,3,8],dtype=\"int8\")\n",
    "print(f\"c= {c}\")\n",
    "print(f\"dimension of a is {c.ndim} and shape = {c.shape} where elements are {c.dtype}\")\n",
    "print(f\"c consumes {c.nbytes} bytes of memory\")"
   ]
  },
  {
   "cell_type": "markdown",
   "metadata": {},
   "source": [
    "it is possible to get help from jupyter using \n",
    "?something_python"
   ]
  },
  {
   "cell_type": "code",
   "execution_count": null,
   "metadata": {},
   "outputs": [],
   "source": [
    "# note that you can get a help as follows just by running this cell:\n",
    "?a.transpose\n",
    "# check out the help tab on the right (I presume)"
   ]
  },
  {
   "cell_type": "markdown",
   "metadata": {},
   "source": [
    "In case you need to get help inline try the following:\n",
    "print (something_python.__doc__)"
   ]
  },
  {
   "cell_type": "code",
   "execution_count": 9,
   "metadata": {},
   "outputs": [
    {
     "name": "stdout",
     "output_type": "stream",
     "text": [
      "a.transpose(*axes)\n",
      "\n",
      "    Returns a view of the array with axes transposed.\n",
      "\n",
      "    Refer to `numpy.transpose` for full documentation.\n",
      "\n",
      "    Parameters\n",
      "    ----------\n",
      "    axes : None, tuple of ints, or `n` ints\n",
      "\n",
      "     * None or no argument: reverses the order of the axes.\n",
      "\n",
      "     * tuple of ints: `i` in the `j`-th place in the tuple means that the\n",
      "       array's `i`-th axis becomes the transposed array's `j`-th axis.\n",
      "\n",
      "     * `n` ints: same as an n-tuple of the same ints (this form is\n",
      "       intended simply as a \"convenience\" alternative to the tuple form).\n",
      "\n",
      "    Returns\n",
      "    -------\n",
      "    p : ndarray\n",
      "        View of the array with its axes suitably permuted.\n",
      "\n",
      "    See Also\n",
      "    --------\n",
      "    transpose : Equivalent function.\n",
      "    ndarray.T : Array property returning the array transposed.\n",
      "    ndarray.reshape : Give a new shape to an array without changing its data.\n",
      "\n",
      "    Examples\n",
      "    --------\n",
      "    >>> import numpy as np\n",
      "    >>> a = np.array([[1, 2], [3, 4]])\n",
      "    >>> a\n",
      "    array([[1, 2],\n",
      "           [3, 4]])\n",
      "    >>> a.transpose()\n",
      "    array([[1, 3],\n",
      "           [2, 4]])\n",
      "    >>> a.transpose((1, 0))\n",
      "    array([[1, 3],\n",
      "           [2, 4]])\n",
      "    >>> a.transpose(1, 0)\n",
      "    array([[1, 3],\n",
      "           [2, 4]])\n",
      "\n",
      "    >>> a = np.array([1, 2, 3, 4])\n",
      "    >>> a\n",
      "    array([1, 2, 3, 4])\n",
      "    >>> a.transpose()\n",
      "    array([1, 2, 3, 4])\n"
     ]
    }
   ],
   "source": [
    "print(a.transpose.__doc__)"
   ]
  },
  {
   "cell_type": "code",
   "execution_count": 10,
   "metadata": {},
   "outputs": [
    {
     "name": "stdout",
     "output_type": "stream",
     "text": [
      "[[ 1  2  3  4  5  6  7  8  9]\n",
      " [11 22 33 44 55 66 77 88 99]]\n",
      "first element of d= 1\n",
      "last element of d = 99\n",
      "last element of d= 99\n"
     ]
    }
   ],
   "source": [
    "# for larger 2D array\n",
    "\n",
    "D = np.array([[1,2,3,4,5,6,7,8,9],[11,22,33,44,55,66,77,88,99]])\n",
    "print(D)\n",
    "\n",
    "# get the first element\n",
    "print(f\"first element of d= {D[0,0]}\")\n",
    "# get the last element\n",
    "print (f'last element of d = {D[1,8]}')\n",
    "# however, do we have to know the lenght of the array to get the last element\n",
    "# rmemeber that python supports negative indexing\n",
    "print(f\"last element of d= {D[-1,-1]}\")"
   ]
  },
  {
   "cell_type": "code",
   "execution_count": 11,
   "metadata": {},
   "outputs": [
    {
     "data": {
      "text/plain": [
       "array([1, 2, 3, 4, 5, 6, 7, 8, 9])"
      ]
     },
     "execution_count": 11,
     "metadata": {},
     "output_type": "execute_result"
    }
   ],
   "source": [
    "# get the first row\n",
    "D[0,:]"
   ]
  },
  {
   "cell_type": "code",
   "execution_count": 12,
   "metadata": {},
   "outputs": [
    {
     "data": {
      "text/plain": [
       "array([ 3, 33])"
      ]
     },
     "execution_count": 12,
     "metadata": {},
     "output_type": "execute_result"
    }
   ],
   "source": [
    "# get the 3rd column\n",
    "D[:,2]"
   ]
  },
  {
   "cell_type": "code",
   "execution_count": 13,
   "metadata": {},
   "outputs": [
    {
     "name": "stdout",
     "output_type": "stream",
     "text": [
      "shape of [1 2 3 4 5 6 7 8 9] is (9,)\n",
      "shape of [ 3 33] is (2,)\n"
     ]
    }
   ],
   "source": [
    "# observe the shapes of these slices\n",
    "print(f'shape of {D[0,:]} is {D[0,:].shape}')\n",
    "print(f'shape of {D[:,2]} is {D[:,2].shape}')"
   ]
  },
  {
   "cell_type": "code",
   "execution_count": 14,
   "metadata": {},
   "outputs": [
    {
     "data": {
      "text/plain": [
       "array([[ 4,  5,  6],\n",
       "       [44, 55, 66]])"
      ]
     },
     "execution_count": 14,
     "metadata": {},
     "output_type": "execute_result"
    }
   ],
   "source": [
    "# get the 2x3 matrix from the center of the array D\n",
    "D[:,3:6]"
   ]
  },
  {
   "cell_type": "code",
   "execution_count": 15,
   "metadata": {},
   "outputs": [
    {
     "data": {
      "text/plain": [
       "array([11, 33, 55, 77, 99])"
      ]
     },
     "execution_count": 15,
     "metadata": {},
     "output_type": "execute_result"
    }
   ],
   "source": [
    "# now lets print every other element on the second row  of D\n",
    "D [1,0: : 2]"
   ]
  },
  {
   "cell_type": "code",
   "execution_count": 82,
   "metadata": {},
   "outputs": [
    {
     "name": "stdout",
     "output_type": "stream",
     "text": [
      "[[ 1  2  3  4  5  6  7  8  9]\n",
      " [11 22 33 44 55 66 77 88 99]]\n",
      "second row of D backwards is: [99 88 77 66 55 44 33 22 11]\n",
      "\n",
      "This did not really work did it? Where is the first element on row 2?\n",
      "Fix the line above and try again\n"
     ]
    }
   ],
   "source": [
    "# print second line backwards\n",
    "print(D)\n",
    "print(f\"second row of D backwards is: {D[1, -1::-1]}\")\n",
    "\n",
    "print('\\nThis did not really work did it? Where is the first element on row 2?\\nFix the line above and try again')"
   ]
  },
  {
   "cell_type": "code",
   "execution_count": 84,
   "metadata": {},
   "outputs": [
    {
     "data": {
      "text/plain": [
       "array([[ True,  True, False],\n",
       "       [False,  True, False],\n",
       "       [False, False,  True]])"
      ]
     },
     "execution_count": 84,
     "metadata": {},
     "output_type": "execute_result"
    }
   ],
   "source": [
    "A = np.array([[1,2,3],[3,2,8],[5,3,1]])\n",
    "A < 3"
   ]
  },
  {
   "cell_type": "code",
   "execution_count": 85,
   "metadata": {},
   "outputs": [
    {
     "data": {
      "text/plain": [
       "array([1, 2, 2, 1])"
      ]
     },
     "execution_count": 85,
     "metadata": {},
     "output_type": "execute_result"
    }
   ],
   "source": [
    "A = np.array([[1,2,3],[3,2,8],[5,3,1]])\n",
    "A[ A< 3]"
   ]
  },
  {
   "cell_type": "code",
   "execution_count": 87,
   "metadata": {},
   "outputs": [
    {
     "name": "stdout",
     "output_type": "stream",
     "text": [
      "[[ 1  2  3  4  5  6  7  8  9]\n",
      " [11 22 33 44 55 66 77 88 99]]\n",
      "elements of D that are on the second row and divisible by 3\n"
     ]
    },
    {
     "data": {
      "text/plain": [
       "array([33, 66, 99])"
      ]
     },
     "execution_count": 87,
     "metadata": {},
     "output_type": "execute_result"
    }
   ],
   "source": [
    "D = np.array ([[1,2,3,4,5,6,7,8,9],[11,22,33,44,55,66,77,88,99]])\n",
    "print (D)\n",
    "print ('elements of D that are on the second row and divisible by 3')\n",
    "np.array([v for v in D[1,:] if v%3==0])"
   ]
  },
  {
   "cell_type": "code",
   "execution_count": 88,
   "metadata": {},
   "outputs": [
    {
     "data": {
      "text/plain": [
       "array([33, 66, 99])"
      ]
     },
     "execution_count": 88,
     "metadata": {},
     "output_type": "execute_result"
    }
   ],
   "source": [
    "D[1,D [1,:]%3==0]"
   ]
  },
  {
   "cell_type": "code",
   "execution_count": 89,
   "metadata": {},
   "outputs": [
    {
     "name": "stdout",
     "output_type": "stream",
     "text": [
      "[[ 1  2  3  4  5  6  7  8  9]\n",
      " [11 22 33 44 55 66 77 88 99]]\n",
      "\n",
      "selected elements with indices 0,1,5 from first, 2,3 from second rows:\n"
     ]
    },
    {
     "data": {
      "text/plain": [
       "array([ 1,  2,  6, 33, 44])"
      ]
     },
     "execution_count": 89,
     "metadata": {},
     "output_type": "execute_result"
    }
   ],
   "source": [
    "D = np.array([[1,2,3,4,5,6,7,8,9],[11,22,33,44,55,66,77,88,99]])\n",
    "print(D)\n",
    "print('\\nselected elements with indices 0,1,5 from first, 2,3 from second rows:')\n",
    "D[[0,0,0,1,1],[0,1,5,2,3]]"
   ]
  }
 ],
 "metadata": {
  "kernelspec": {
   "display_name": "Python 3",
   "language": "python",
   "name": "python3"
  },
  "language_info": {
   "codemirror_mode": {
    "name": "ipython",
    "version": 3
   },
   "file_extension": ".py",
   "mimetype": "text/x-python",
   "name": "python",
   "nbconvert_exporter": "python",
   "pygments_lexer": "ipython3",
   "version": "3.10.12"
  }
 },
 "nbformat": 4,
 "nbformat_minor": 2
}
