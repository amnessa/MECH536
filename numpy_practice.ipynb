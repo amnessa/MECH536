{
 "cells": [
  {
   "cell_type": "markdown",
   "metadata": {},
   "source": [
    "dont forget to source the environment\n",
    "\n",
    " source .venv/bin/activate"
   ]
  },
  {
   "cell_type": "code",
   "execution_count": 1,
   "metadata": {},
   "outputs": [
    {
     "name": "stdout",
     "output_type": "stream",
     "text": [
      "np,io,plt and more imported, let's move on\n",
      "0.24.0 3.9.2 8.1.5\n"
     ]
    }
   ],
   "source": [
    "import numpy as np\n",
    "from skimage import io\n",
    "import skimage\n",
    "import matplotlib\n",
    "import matplotlib.pyplot as plt\n",
    "%matplotlib inline\n",
    "from ipywidgets import interact, interactive, fixed, interact_manual\n",
    "import ipywidgets as widgets\n",
    "\n",
    "!echo \"np,io,plt and more imported, let's move on\"\n",
    "print(skimage.__version__, matplotlib.__version__, widgets.__version__)"
   ]
  },
  {
   "cell_type": "code",
   "execution_count": 2,
   "metadata": {},
   "outputs": [],
   "source": [
    "a = np.random.randint(-10,10, (7,2))"
   ]
  },
  {
   "cell_type": "code",
   "execution_count": 3,
   "metadata": {},
   "outputs": [
    {
     "name": "stdout",
     "output_type": "stream",
     "text": [
      "a=[1 2 3 8]\n",
      "dimension of a is 1 and shape = (4,) where elements are int64\n",
      "a consumes 32 bytes of memory\n"
     ]
    }
   ],
   "source": [
    "a = np.array([1,2,3,8])\n",
    "print(f\"a={a}\")\n",
    "print(f\"dimension of a is {a.ndim} and shape = {a.shape} where elements are {a.dtype}\")\n",
    "print(f\"a consumes {a.nbytes} bytes of memory\")"
   ]
  },
  {
   "cell_type": "code",
   "execution_count": 4,
   "metadata": {},
   "outputs": [
    {
     "name": "stdout",
     "output_type": "stream",
     "text": [
      "B=[[3. 1. 4.]\n",
      " [1. 2. 5.]]\n",
      "dimension of a is 2 and shape = (2, 3) where elements are float64\n",
      "B consumes 48 bytes of memory\n"
     ]
    }
   ],
   "source": [
    "#  observe that only the one element of the array is float\n",
    "\n",
    "B = np.array([[3,1,4],[1,2.,5]])\n",
    "print(f\"B={B}\")\n",
    "print(f\"dimension of a is {B.ndim} and shape = {B.shape} where elements are {B.dtype}\")\n",
    "print(f\"B consumes {B.nbytes} bytes of memory\")"
   ]
  },
  {
   "cell_type": "code",
   "execution_count": 5,
   "metadata": {},
   "outputs": [
    {
     "name": "stdout",
     "output_type": "stream",
     "text": [
      "c= [1 2 3 8]\n",
      "dimension of a is 1 and shape = (4,) where elements are int8\n",
      "c consumes 4 bytes of memory\n"
     ]
    }
   ],
   "source": [
    "# what if I just bytes\n",
    "c = np.array ([1,2,3,8],dtype=\"int8\")\n",
    "print(f\"c= {c}\")\n",
    "print(f\"dimension of a is {c.ndim} and shape = {c.shape} where elements are {c.dtype}\")\n",
    "print(f\"c consumes {c.nbytes} bytes of memory\")"
   ]
  },
  {
   "cell_type": "markdown",
   "metadata": {},
   "source": [
    "it is possible to get help from jupyter using \n",
    "?something_python"
   ]
  },
  {
   "cell_type": "code",
   "execution_count": 6,
   "metadata": {},
   "outputs": [
    {
     "name": "stdout",
     "output_type": "stream",
     "text": [
      "\u001b[0;31mDocstring:\u001b[0m\n",
      "a.transpose(*axes)\n",
      "\n",
      "Returns a view of the array with axes transposed.\n",
      "\n",
      "Refer to `numpy.transpose` for full documentation.\n",
      "\n",
      "Parameters\n",
      "----------\n",
      "axes : None, tuple of ints, or `n` ints\n",
      "\n",
      " * None or no argument: reverses the order of the axes.\n",
      "\n",
      " * tuple of ints: `i` in the `j`-th place in the tuple means that the\n",
      "   array's `i`-th axis becomes the transposed array's `j`-th axis.\n",
      "\n",
      " * `n` ints: same as an n-tuple of the same ints (this form is\n",
      "   intended simply as a \"convenience\" alternative to the tuple form).\n",
      "\n",
      "Returns\n",
      "-------\n",
      "p : ndarray\n",
      "    View of the array with its axes suitably permuted.\n",
      "\n",
      "See Also\n",
      "--------\n",
      "transpose : Equivalent function.\n",
      "ndarray.T : Array property returning the array transposed.\n",
      "ndarray.reshape : Give a new shape to an array without changing its data.\n",
      "\n",
      "Examples\n",
      "--------\n",
      ">>> import numpy as np\n",
      ">>> a = np.array([[1, 2], [3, 4]])\n",
      ">>> a\n",
      "array([[1, 2],\n",
      "       [3, 4]])\n",
      ">>> a.transpose()\n",
      "array([[1, 3],\n",
      "       [2, 4]])\n",
      ">>> a.transpose((1, 0))\n",
      "array([[1, 3],\n",
      "       [2, 4]])\n",
      ">>> a.transpose(1, 0)\n",
      "array([[1, 3],\n",
      "       [2, 4]])\n",
      "\n",
      ">>> a = np.array([1, 2, 3, 4])\n",
      ">>> a\n",
      "array([1, 2, 3, 4])\n",
      ">>> a.transpose()\n",
      "array([1, 2, 3, 4])\n",
      "\u001b[0;31mType:\u001b[0m      builtin_function_or_method"
     ]
    }
   ],
   "source": [
    "# note that you can get a help as follows just by running this cell:\n",
    "?a.transpose\n",
    "# check out the help tab on the right (I presume)"
   ]
  },
  {
   "cell_type": "markdown",
   "metadata": {},
   "source": [
    "In case you need to get help inline try the following:\n",
    "print (something_python.__doc__)"
   ]
  },
  {
   "cell_type": "code",
   "execution_count": 7,
   "metadata": {},
   "outputs": [
    {
     "name": "stdout",
     "output_type": "stream",
     "text": [
      "a.transpose(*axes)\n",
      "\n",
      "    Returns a view of the array with axes transposed.\n",
      "\n",
      "    Refer to `numpy.transpose` for full documentation.\n",
      "\n",
      "    Parameters\n",
      "    ----------\n",
      "    axes : None, tuple of ints, or `n` ints\n",
      "\n",
      "     * None or no argument: reverses the order of the axes.\n",
      "\n",
      "     * tuple of ints: `i` in the `j`-th place in the tuple means that the\n",
      "       array's `i`-th axis becomes the transposed array's `j`-th axis.\n",
      "\n",
      "     * `n` ints: same as an n-tuple of the same ints (this form is\n",
      "       intended simply as a \"convenience\" alternative to the tuple form).\n",
      "\n",
      "    Returns\n",
      "    -------\n",
      "    p : ndarray\n",
      "        View of the array with its axes suitably permuted.\n",
      "\n",
      "    See Also\n",
      "    --------\n",
      "    transpose : Equivalent function.\n",
      "    ndarray.T : Array property returning the array transposed.\n",
      "    ndarray.reshape : Give a new shape to an array without changing its data.\n",
      "\n",
      "    Examples\n",
      "    --------\n",
      "    >>> import numpy as np\n",
      "    >>> a = np.array([[1, 2], [3, 4]])\n",
      "    >>> a\n",
      "    array([[1, 2],\n",
      "           [3, 4]])\n",
      "    >>> a.transpose()\n",
      "    array([[1, 3],\n",
      "           [2, 4]])\n",
      "    >>> a.transpose((1, 0))\n",
      "    array([[1, 3],\n",
      "           [2, 4]])\n",
      "    >>> a.transpose(1, 0)\n",
      "    array([[1, 3],\n",
      "           [2, 4]])\n",
      "\n",
      "    >>> a = np.array([1, 2, 3, 4])\n",
      "    >>> a\n",
      "    array([1, 2, 3, 4])\n",
      "    >>> a.transpose()\n",
      "    array([1, 2, 3, 4])\n"
     ]
    }
   ],
   "source": [
    "print(a.transpose.__doc__)"
   ]
  },
  {
   "cell_type": "code",
   "execution_count": 8,
   "metadata": {},
   "outputs": [
    {
     "name": "stdout",
     "output_type": "stream",
     "text": [
      "[[ 1  2  3  4  5  6  7  8  9]\n",
      " [11 22 33 44 55 66 77 88 99]]\n",
      "first element of d= 1\n",
      "last element of d = 99\n",
      "last element of d= 99\n"
     ]
    }
   ],
   "source": [
    "# for larger 2D array\n",
    "\n",
    "D = np.array([[1,2,3,4,5,6,7,8,9],[11,22,33,44,55,66,77,88,99]])\n",
    "print(D)\n",
    "\n",
    "# get the first element\n",
    "print(f\"first element of d= {D[0,0]}\")\n",
    "# get the last element\n",
    "print (f'last element of d = {D[1,8]}')\n",
    "# however, do we have to know the lenght of the array to get the last element\n",
    "# rmemeber that python supports negative indexing\n",
    "print(f\"last element of d= {D[-1,-1]}\")"
   ]
  },
  {
   "cell_type": "code",
   "execution_count": 9,
   "metadata": {},
   "outputs": [
    {
     "data": {
      "text/plain": [
       "array([1, 2, 3, 4, 5, 6, 7, 8, 9])"
      ]
     },
     "execution_count": 9,
     "metadata": {},
     "output_type": "execute_result"
    }
   ],
   "source": [
    "# get the first row\n",
    "D[0,:]"
   ]
  },
  {
   "cell_type": "code",
   "execution_count": 10,
   "metadata": {},
   "outputs": [
    {
     "data": {
      "text/plain": [
       "array([ 3, 33])"
      ]
     },
     "execution_count": 10,
     "metadata": {},
     "output_type": "execute_result"
    }
   ],
   "source": [
    "# get the 3rd column\n",
    "D[:,2]"
   ]
  },
  {
   "cell_type": "code",
   "execution_count": 11,
   "metadata": {},
   "outputs": [
    {
     "name": "stdout",
     "output_type": "stream",
     "text": [
      "shape of [1 2 3 4 5 6 7 8 9] is (9,)\n",
      "shape of [ 3 33] is (2,)\n"
     ]
    }
   ],
   "source": [
    "# observe the shapes of these slices\n",
    "print(f'shape of {D[0,:]} is {D[0,:].shape}')\n",
    "print(f'shape of {D[:,2]} is {D[:,2].shape}')"
   ]
  },
  {
   "cell_type": "code",
   "execution_count": 12,
   "metadata": {},
   "outputs": [
    {
     "data": {
      "text/plain": [
       "array([[ 4,  5,  6],\n",
       "       [44, 55, 66]])"
      ]
     },
     "execution_count": 12,
     "metadata": {},
     "output_type": "execute_result"
    }
   ],
   "source": [
    "# get the 2x3 matrix from the center of the array D\n",
    "D[:,3:6]"
   ]
  },
  {
   "cell_type": "code",
   "execution_count": 13,
   "metadata": {},
   "outputs": [
    {
     "data": {
      "text/plain": [
       "array([11, 33, 55, 77, 99])"
      ]
     },
     "execution_count": 13,
     "metadata": {},
     "output_type": "execute_result"
    }
   ],
   "source": [
    "# now lets print every other element on the second row  of D\n",
    "D [1,0: : 2]"
   ]
  },
  {
   "cell_type": "code",
   "execution_count": 14,
   "metadata": {},
   "outputs": [
    {
     "name": "stdout",
     "output_type": "stream",
     "text": [
      "[[ 1  2  3  4  5  6  7  8  9]\n",
      " [11 22 33 44 55 66 77 88 99]]\n",
      "second row of D backwards is: [99 88 77 66 55 44 33 22 11]\n",
      "\n",
      "This did not really work did it? Where is the first element on row 2?\n",
      "Fix the line above and try again\n"
     ]
    }
   ],
   "source": [
    "# print second line backwards\n",
    "print(D)\n",
    "print(f\"second row of D backwards is: {D[1, -1::-1]}\")\n",
    "\n",
    "print('\\nThis did not really work did it? Where is the first element on row 2?\\nFix the line above and try again')"
   ]
  },
  {
   "cell_type": "code",
   "execution_count": 15,
   "metadata": {},
   "outputs": [
    {
     "data": {
      "text/plain": [
       "array([[ True,  True, False],\n",
       "       [False,  True, False],\n",
       "       [False, False,  True]])"
      ]
     },
     "execution_count": 15,
     "metadata": {},
     "output_type": "execute_result"
    }
   ],
   "source": [
    "A = np.array([[1,2,3],[3,2,8],[5,3,1]])\n",
    "A < 3"
   ]
  },
  {
   "cell_type": "code",
   "execution_count": 16,
   "metadata": {},
   "outputs": [
    {
     "data": {
      "text/plain": [
       "array([1, 2, 2, 1])"
      ]
     },
     "execution_count": 16,
     "metadata": {},
     "output_type": "execute_result"
    }
   ],
   "source": [
    "A = np.array([[1,2,3],[3,2,8],[5,3,1]])\n",
    "A[ A< 3]"
   ]
  },
  {
   "cell_type": "code",
   "execution_count": 17,
   "metadata": {},
   "outputs": [
    {
     "name": "stdout",
     "output_type": "stream",
     "text": [
      "[[ 1  2  3  4  5  6  7  8  9]\n",
      " [11 22 33 44 55 66 77 88 99]]\n",
      "elements of D that are on the second row and divisible by 3\n"
     ]
    },
    {
     "data": {
      "text/plain": [
       "array([33, 66, 99])"
      ]
     },
     "execution_count": 17,
     "metadata": {},
     "output_type": "execute_result"
    }
   ],
   "source": [
    "D = np.array ([[1,2,3,4,5,6,7,8,9],[11,22,33,44,55,66,77,88,99]])\n",
    "print (D)\n",
    "print ('elements of D that are on the second row and divisible by 3')\n",
    "np.array([v for v in D[1,:] if v%3==0])"
   ]
  },
  {
   "cell_type": "code",
   "execution_count": 18,
   "metadata": {},
   "outputs": [
    {
     "data": {
      "text/plain": [
       "array([33, 66, 99])"
      ]
     },
     "execution_count": 18,
     "metadata": {},
     "output_type": "execute_result"
    }
   ],
   "source": [
    "D[1,D [1,:]%3==0]"
   ]
  },
  {
   "cell_type": "code",
   "execution_count": 19,
   "metadata": {},
   "outputs": [
    {
     "name": "stdout",
     "output_type": "stream",
     "text": [
      "[[ 1  2  3  4  5  6  7  8  9]\n",
      " [11 22 33 44 55 66 77 88 99]]\n",
      "\n",
      "selected elements with indices 0,1,5 from first, 2,3 from second rows:\n"
     ]
    },
    {
     "data": {
      "text/plain": [
       "array([ 1,  2,  6, 33, 44])"
      ]
     },
     "execution_count": 19,
     "metadata": {},
     "output_type": "execute_result"
    }
   ],
   "source": [
    "D = np.array([[1,2,3,4,5,6,7,8,9],[11,22,33,44,55,66,77,88,99]])\n",
    "print(D)\n",
    "print('\\nselected elements with indices 0,1,5 from first, 2,3 from second rows:')\n",
    "D[[0,0,0,1,1],[0,1,5,2,3]]"
   ]
  },
  {
   "cell_type": "code",
   "execution_count": 20,
   "metadata": {},
   "outputs": [
    {
     "name": "stdout",
     "output_type": "stream",
     "text": [
      "element0in Z is: [1 2 3]\n",
      "element1in Z is: [4 5 6]\n"
     ]
    }
   ],
   "source": [
    "# iteration directly over np.array\n",
    "\n",
    "Z = np.array([[1,2,3],[4,5,6]])\n",
    "for elind,elval in enumerate(Z):\n",
    "    print(f\"element{elind}in Z is: {elval}\")"
   ]
  },
  {
   "cell_type": "markdown",
   "metadata": {},
   "source": [
    "Short answer is: iterating over multidimensional array is not a good idea, and apperantly indexing is not like Matlab. So be careful. Yet, note that in numpy you will not need for loops over arrays most of the time. Continue to understand why..."
   ]
  },
  {
   "cell_type": "code",
   "execution_count": 23,
   "metadata": {},
   "outputs": [
    {
     "name": "stdout",
     "output_type": "stream",
     "text": [
      "(2, 3) array full of zeros:\n",
      "[[0. 0. 0.]\n",
      " [0. 0. 0.]]\n",
      "\n",
      "(3, 3) array full of ones:\n",
      "[[1. 1. 1.]\n",
      " [1. 1. 1.]\n",
      " [1. 1. 1.]]\n",
      "\n",
      "(2, 4) array full of 15s:\n",
      " [[15 15 15 15]\n",
      " [15 15 15 15]]\n",
      "\n",
      "(2, 4) array full of 15s:\n",
      " [[15. 15. 15. 15.]\n",
      " [15. 15. 15. 15.]]\n",
      "\n"
     ]
    }
   ],
   "source": [
    "shape1= (2,3)\n",
    "shape2= (3,3)\n",
    "shape3= (2,4)\n",
    "full_value =15\n",
    "\n",
    "print(f\"{shape1} array full of zeros:\\n{np.zeros(shape1)}\\n\")\n",
    "print(f\"{shape2} array full of ones:\\n{np.ones(shape2)}\\n\")\n",
    "print(f\"{shape3} array full of {full_value}s:\\n {np.full(shape3,15)}\\n\")\n",
    "# an alternative way for full function\n",
    "print(f\"{shape3} array full of {full_value}s:\\n {np.ones(shape3)*full_value}\\n\")"
   ]
  },
  {
   "cell_type": "code",
   "execution_count": 25,
   "metadata": {},
   "outputs": [
    {
     "name": "stdout",
     "output_type": "stream",
     "text": [
      "0.33708721241127293\n",
      "[[0.73684006 0.90709181 0.79586784 0.24526153 0.36103334]\n",
      " [0.52290421 0.59834503 0.49279389 0.19661453 0.46379371]\n",
      " [0.89529231 0.24152515 0.62924052 0.33950391 0.3922216 ]]\n",
      "[[7 6 9]\n",
      " [6 2 4]]\n"
     ]
    }
   ],
   "source": [
    "# random valued array\n",
    "print(np.random.rand())\n",
    "print(np.random.rand(3,5))\n",
    "print(np.random.randint(10,size=(2,3)))\n"
   ]
  },
  {
   "cell_type": "code",
   "execution_count": 30,
   "metadata": {},
   "outputs": [],
   "source": [
    "def MatPrint(M,message = 'Matrix:'):\n",
    "    '''\n",
    "    this function accepts a variable M, expected to be in the form of np.array\n",
    "    and prints it more like a matrix\n",
    "    Potential future work:\n",
    "        digit size is currently fixed to 8, therefore it will not show arrays with long numbers properly\n",
    "    '''\n",
    "    try:\n",
    "        if M.ndim != 2: # this function is meant to print only 2D arrays, if not 2D just print it\n",
    "            print(message)\n",
    "            print(M)\n",
    "        else:\n",
    "            print(message)\n",
    "            spc = ' '\n",
    "            sep = '|'\n",
    "            for r in M: # go over each row, i.e. 1 and 2 :)\n",
    "                res = sep + spc\n",
    "                for d in r: # go over each element in the current row\n",
    "                    res = res+ '{:8.2f}'.format(d) + spc\n",
    "                res = res + sep\n",
    "                print(res)\n",
    "    except:\n",
    "        print(f\"Is {M} really a meaningful numpy array?\")"
   ]
  },
  {
   "cell_type": "markdown",
   "metadata": {},
   "source": [
    "this function can be improved\n",
    "\n",
    "download following file the current folder \n",
    "Next import function of interest from the downloaded function.\n",
    "to test run a docstring (the help document)\n",
    "\n",
    "Note that you can read the content of the donwloaded files. Check out the files icon at the bottom on the left side.\n",
    "\n",
    "Just double click on the file you want to view and also edit."
   ]
  },
  {
   "cell_type": "code",
   "execution_count": 33,
   "metadata": {},
   "outputs": [
    {
     "name": "stdout",
     "output_type": "stream",
     "text": [
      "--2024-10-05 22:34:37--  https://raw.githubusercontent.com/bugrakoku/bug_python_utils/main/bug_numpy_utils.py\n",
      "Resolving raw.githubusercontent.com (raw.githubusercontent.com)... 185.199.108.133, 185.199.111.133, 185.199.110.133, ...\n",
      "Connecting to raw.githubusercontent.com (raw.githubusercontent.com)|185.199.108.133|:443... connected.\n",
      "HTTP request sent, awaiting response... 200 OK\n",
      "Length: 18456 (18K) [text/plain]\n",
      "Saving to: ‘bug_numpy_utils.py’\n",
      "\n",
      "bug_numpy_utils.py  100%[===================>]  18.02K  --.-KB/s    in 0.007s  \n",
      "\n",
      "2024-10-05 22:34:38 (2.53 MB/s) - ‘bug_numpy_utils.py’ saved [18456/18456]\n",
      "\n"
     ]
    },
    {
     "ename": "ModuleNotFoundError",
     "evalue": "No module named 'sklearn'",
     "output_type": "error",
     "traceback": [
      "\u001b[0;31m---------------------------------------------------------------------------\u001b[0m",
      "\u001b[0;31mModuleNotFoundError\u001b[0m                       Traceback (most recent call last)",
      "Cell \u001b[0;32mIn[33], line 3\u001b[0m\n\u001b[1;32m      1\u001b[0m get_ipython()\u001b[38;5;241m.\u001b[39msystem(\u001b[38;5;124m'\u001b[39m\u001b[38;5;124mrm bug_numpy_utils.py\u001b[39m\u001b[38;5;124m'\u001b[39m)\n\u001b[1;32m      2\u001b[0m get_ipython()\u001b[38;5;241m.\u001b[39msystem(\u001b[38;5;124m'\u001b[39m\u001b[38;5;124mwget https://raw.githubusercontent.com/bugrakoku/bug_python_utils/main/bug_numpy_utils.py\u001b[39m\u001b[38;5;124m'\u001b[39m)\n\u001b[0;32m----> 3\u001b[0m \u001b[38;5;28;01mfrom\u001b[39;00m \u001b[38;5;21;01mbug_numpy_utils\u001b[39;00m \u001b[38;5;28;01mimport\u001b[39;00m MatPrint,CData \u001b[38;5;66;03m# note that once these files are downloaded you can read their content.\u001b[39;00m\n\u001b[1;32m      4\u001b[0m \u001b[38;5;66;03m# print function's help after import\u001b[39;00m\n\u001b[1;32m      6\u001b[0m \u001b[38;5;28mprint\u001b[39m(MatPrint\u001b[38;5;241m.\u001b[39m\u001b[38;5;18m__doc__\u001b[39m)\n",
      "File \u001b[0;32m~/MECH536/bug_numpy_utils.py:35\u001b[0m\n\u001b[1;32m     33\u001b[0m \u001b[38;5;28;01mimport\u001b[39;00m \u001b[38;5;21;01mmatplotlib\u001b[39;00m\u001b[38;5;21;01m.\u001b[39;00m\u001b[38;5;21;01mpyplot\u001b[39;00m \u001b[38;5;28;01mas\u001b[39;00m \u001b[38;5;21;01mplt\u001b[39;00m\n\u001b[1;32m     34\u001b[0m \u001b[38;5;28;01mfrom\u001b[39;00m \u001b[38;5;21;01mscipy\u001b[39;00m\u001b[38;5;21;01m.\u001b[39;00m\u001b[38;5;21;01mlinalg\u001b[39;00m \u001b[38;5;28;01mimport\u001b[39;00m orth\n\u001b[0;32m---> 35\u001b[0m \u001b[38;5;28;01mfrom\u001b[39;00m \u001b[38;5;21;01msklearn\u001b[39;00m\u001b[38;5;21;01m.\u001b[39;00m\u001b[38;5;21;01mpreprocessing\u001b[39;00m \u001b[38;5;28;01mimport\u001b[39;00m normalize\n\u001b[1;32m     36\u001b[0m \u001b[38;5;28;01mimport\u001b[39;00m \u001b[38;5;21;01mplotly\u001b[39;00m\u001b[38;5;21;01m.\u001b[39;00m\u001b[38;5;21;01mexpress\u001b[39;00m \u001b[38;5;28;01mas\u001b[39;00m \u001b[38;5;21;01mpx\u001b[39;00m\n\u001b[1;32m     37\u001b[0m \u001b[38;5;28;01mimport\u001b[39;00m \u001b[38;5;21;01mplotly\u001b[39;00m\u001b[38;5;21;01m.\u001b[39;00m\u001b[38;5;21;01mgraph_objects\u001b[39;00m \u001b[38;5;28;01mas\u001b[39;00m \u001b[38;5;21;01mgo\u001b[39;00m\n",
      "\u001b[0;31mModuleNotFoundError\u001b[0m: No module named 'sklearn'"
     ]
    }
   ],
   "source": [
    "!rm bug_numpy_utils.py\n",
    "!wget https://raw.githubusercontent.com/bugrakoku/bug_python_utils/main/bug_numpy_utils.py\n",
    "from bug_numpy_utils import MatPrint,CData # note that once these files are downloaded you can read their content.\n",
    "# print function's help after import\n",
    "\n",
    "print(MatPrint.__doc__)"
   ]
  }
 ],
 "metadata": {
  "kernelspec": {
   "display_name": ".venv",
   "language": "python",
   "name": "python3"
  },
  "language_info": {
   "codemirror_mode": {
    "name": "ipython",
    "version": 3
   },
   "file_extension": ".py",
   "mimetype": "text/x-python",
   "name": "python",
   "nbconvert_exporter": "python",
   "pygments_lexer": "ipython3",
   "version": "3.10.12"
  }
 },
 "nbformat": 4,
 "nbformat_minor": 2
}
