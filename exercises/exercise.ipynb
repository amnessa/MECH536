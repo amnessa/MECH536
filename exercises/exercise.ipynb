{
 "cells": [
  {
   "cell_type": "code",
   "execution_count": 1,
   "metadata": {},
   "outputs": [
    {
     "data": {
      "application/vnd.jupyter.widget-view+json": {
       "model_id": "dd643c94213047b8bc6a2bbb070db484",
       "version_major": 2,
       "version_minor": 0
      },
      "text/plain": [
       "interactive(children=(FloatSlider(value=3.0, description='scale', max=5.0, min=0.5), Output()), _dom_classes=(…"
      ]
     },
     "metadata": {},
     "output_type": "display_data"
    },
    {
     "data": {
      "text/plain": [
       "<function __main__.plot_rectangles(scale=3)>"
      ]
     },
     "execution_count": 1,
     "metadata": {},
     "output_type": "execute_result"
    }
   ],
   "source": [
    "import numpy as np\n",
    "import matplotlib.pyplot as plt\n",
    "from ipywidgets import interact\n",
    "import ipywidgets as widgets\n",
    "\n",
    "def plot_rectangles(scale=3):\n",
    "    # Create a 20x30 grid of dots\n",
    "    x = np.linspace(0, 30, 31)\n",
    "    y = np.linspace(0, 20, 21)\n",
    "    X, Y = np.meshgrid(x, y)\n",
    "    \n",
    "    # Define transformation matrix\n",
    "    scalar = np.eye(2) * scale\n",
    "    #reflection matrix\n",
    "\n",
    "    reflection = np.array([[-1, 0], [0, -1]])\n",
    "\n",
    "    # diagonal matrix\n",
    "\n",
    "    diagonal = np.array([[2, 0], [0, 3]])\n",
    "\n",
    "    # sheer matrix\n",
    "\n",
    "    sheer = np.array([[1, 0.5], [0, 1]])\n",
    "    \n",
    "    # Split the grid into quarters\n",
    "\n",
    "\n",
    "    mid_x = len(x) // 2\n",
    "    mid_y = len(y) // 2\n",
    "    \n",
    "    # Create the plot\n",
    "    plt.figure(figsize=(10, 7))\n",
    "    \n",
    "    # Plot each quarter with different colors\n",
    "    colors = ['red', 'blue', 'green', 'purple']\n",
    "    quarters = [\n",
    "        (slice(0, mid_y), slice(0, mid_x)),\n",
    "        (slice(0, mid_y), slice(mid_x, None)),\n",
    "        (slice(mid_y, None), slice(0, mid_x)),\n",
    "        (slice(mid_y, None), slice(mid_x, None))\n",
    "    ]\n",
    "    \n",
    "    for (y_slice, x_slice), color in zip(quarters, colors):\n",
    "        points = np.vstack((X[y_slice, x_slice].flatten(), Y[y_slice, x_slice].flatten()))\n",
    "        \n",
    "        transformed_points = scalar @ points\n",
    "        #transformed_points = reflection @ transformed_points\n",
    "        #transformed_points = diagonal @ transformed_points\n",
    "        transformed_points = sheer @ transformed_points\n",
    "\n",
    "        X_transformed = transformed_points[0,:].reshape(X[y_slice, x_slice].shape)\n",
    "        Y_transformed = transformed_points[1,:].reshape(Y[y_slice, x_slice].shape)\n",
    "        \n",
    "        plt.plot(X_transformed, Y_transformed, '.', color=color, markersize=7)\n",
    "    \n",
    "    plt.grid(True)\n",
    "    plt.title('20 x 30 Rectangle made of Dots - Divided in Quarters')\n",
    "    plt.xlabel('Width')\n",
    "    plt.ylabel('Height')\n",
    "    plt.xlim(-100, 100)\n",
    "    plt.ylim(-70, 70)\n",
    "    plt.show()\n",
    "\n",
    "# Create interactive widget\n",
    "interact(plot_rectangles, scale=widgets.FloatSlider(min=0.5, max=5, step=0.1, value=3))\n"
   ]
  },
  {
   "cell_type": "code",
   "execution_count": null,
   "metadata": {},
   "outputs": [],
   "source": [
    "\n",
    "import numpy as np\n",
    "import matplotlib.pyplot as plt\n",
    "\n",
    "# Define the vertices of the triangle as 2D vectors\n",
    "v1 = np.array([0, 0])\n",
    "v2 = np.array([2, 0])\n",
    "v3 = np.array([1, 2])\n",
    "\n",
    "# Create arrays for plotting\n",
    "x_coords = [v1[0], v2[0], v3[0], v1[0]]  # Add first point again to close the triangle\n",
    "y_coords = [v1[1], v2[1], v3[1], v1[1]]\n",
    "\n",
    "# Create a grid of points\n",
    "x = np.linspace(min(x_coords), max(x_coords), 20)\n",
    "y = np.linspace(min(y_coords), max(y_coords), 20)\n",
    "X, Y = np.meshgrid(x, y)\n",
    "\n",
    "# Function to check if point is inside triangle\n",
    "def point_in_triangle(x, y, v1, v2, v3):\n",
    "    def sign(p1, p2, p3):\n",
    "        return (p1[0] - p3[0]) * (p2[1] - p3[1]) - (p2[0] - p3[0]) * (p1[1] - p3[1])\n",
    "    \n",
    "    d1 = sign([x, y], v1, v2)\n",
    "    d2 = sign([x, y], v2, v3)\n",
    "    d3 = sign([x, y], v3, v1)\n",
    "    \n",
    "    has_neg = (d1 < 0) or (d2 < 0) or (d3 < 0)\n",
    "    has_pos = (d1 > 0) or (d2 > 0) or (d3 > 0)\n",
    "    \n",
    "    return not (has_neg and has_pos)\n",
    "\n",
    "# Filter points inside triangle\n",
    "points_x = []\n",
    "points_y = []\n",
    "for i in range(len(X.flat)):\n",
    "    x, y = X.flat[i], Y.flat[i]\n",
    "    if point_in_triangle(x, y, v1, v2, v3):\n",
    "        points_x.append(x)\n",
    "        points_y.append(y)\n",
    "\n",
    "# Create the plot\n",
    "plt.figure(figsize=(8, 6))\n",
    "plt.plot(x_coords, y_coords, 'b-', linewidth=2)\n",
    "plt.plot(points_x, points_y, 'r.', markersize=8)\n",
    "plt.grid(True)\n",
    "plt.axis('equal')\n",
    "plt.title('Triangle using 2D Vectors with Interior Points')\n",
    "plt.xlabel('x')\n",
    "plt.ylabel('y')\n",
    "plt.show()"
   ]
  }
 ],
 "metadata": {
  "kernelspec": {
   "display_name": ".venv",
   "language": "python",
   "name": "python3"
  },
  "language_info": {
   "codemirror_mode": {
    "name": "ipython",
    "version": 3
   },
   "file_extension": ".py",
   "mimetype": "text/x-python",
   "name": "python",
   "nbconvert_exporter": "python",
   "pygments_lexer": "ipython3",
   "version": "3.10.12"
  }
 },
 "nbformat": 4,
 "nbformat_minor": 2
}
