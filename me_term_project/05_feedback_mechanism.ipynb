{
 "cells": [
  {
   "cell_type": "code",
   "execution_count": 1,
   "metadata": {},
   "outputs": [],
   "source": [
    "import pickle\n",
    "import numpy as np\n",
    "from pathlib import Path\n",
    "from sklearn.decomposition import PCA\n",
    "from sklearn.cluster import KMeans\n",
    "\n",
    "from predictive_model import le # Import label encoder\n",
    "\n",
    "class FeedbackSystem:\n",
    "    def __init__(self):\n",
    "        self.model = None\n",
    "        self.pca = None\n",
    "        self.data = []\n",
    "        self.labels = []\n",
    "        self.load_initial_model()\n",
    "\n",
    "    def load_initial_model(self):\n",
    "        # Load pre-trained PCA and KMeans\n",
    "        self.pca = PCA(n_components=35, whiten=True, svd_solver='full')\n",
    "        self.pca.fit(pickle.load(open('../data/features/VGG16_fc1_features_std.pickle', 'rb'))['features'])\n",
    "        self.model = KMeans(n_clusters=7, init='k-means++', n_init=500)\n",
    "        self.model.fit(self.pca.transform(fc1))  # Assuming `fc1` is loaded globally\n",
    "\n",
    "    def process_feedback(self, image_features):\n",
    "        # Predict\n",
    "        reduced_features = self.pca.transform([image_features])\n",
    "        cluster = self.model.predict(reduced_features)[0]\n",
    "        predicted_label = le.inverse_transform([cluster])[0]\n",
    "        \n",
    "        # Get feedback\n",
    "        is_correct = input(f\"Predicted: {predicted_label}. Correct? (y/n): \").lower() == 'y'\n",
    "        \n",
    "        if not is_correct:\n",
    "            is_new_class = input(\"Is this a new class? (y/n): \").lower() == 'y'\n",
    "            if is_new_class:\n",
    "                new_class = input(\"Enter class name: \")\n",
    "                le.classes_ = np.append(le.classes_, new_class)\n",
    "                print(f\"New class '{new_class}' added.\")\n",
    "            else:\n",
    "                correct_label = input(\"Enter correct label: \")\n",
    "                print(\"Model update requires retraining. Use retrain_model() later.\")\n",
    "        else:\n",
    "            print(\"Feedback recorded. Thank you!\")\n",
    "        \n",
    "    def retrain_model(self, new_data, new_labels):\n",
    "        # Append new data and retrain\n",
    "        self.data.extend(new_data)\n",
    "        self.labels.extend(new_labels)\n",
    "        updated_features = self.pca.transform(self.data)\n",
    "        self.model = KMeans(n_clusters=len(le.classes_), init='k-means++', n_init=100)\n",
    "        self.model.fit(updated_features)\n",
    "        print(\"Model retrained with new data.\")"
   ]
  },
  {
   "cell_type": "code",
   "execution_count": null,
   "metadata": {},
   "outputs": [],
   "source": [
    "# Example usage\n",
    "fb_system = FeedbackSystem()\n",
    "new_image_features = [...]  # Extract features for a new image\n",
    "fb_system.process_feedback(new_image_features)\n",
    "# After collecting enough feedback data:\n",
    "# fb_system.retrain_model(new_data_list, new_label_list)"
   ]
  }
 ],
 "metadata": {
  "kernelspec": {
   "display_name": ".venv",
   "language": "python",
   "name": "python3"
  },
  "language_info": {
   "codemirror_mode": {
    "name": "ipython",
    "version": 3
   },
   "file_extension": ".py",
   "mimetype": "text/x-python",
   "name": "python",
   "nbconvert_exporter": "python",
   "pygments_lexer": "ipython3",
   "version": "3.12.3"
  }
 },
 "nbformat": 4,
 "nbformat_minor": 2
}
