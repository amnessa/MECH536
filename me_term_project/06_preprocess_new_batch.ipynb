{
 "cells": [
  {
   "cell_type": "code",
   "execution_count": null,
   "metadata": {},
   "outputs": [],
   "source": [
    "# handle_new_batch.py\n",
    "\n",
    "import pickle\n",
    "import numpy as np\n",
    "from pathlib import Path\n",
    "\n",
    "def process_new_batch(fc1_batch_4096):\n",
    "    \"\"\"\n",
    "    fc1_batch_4096: shape (B, 4096) new data's raw fc1 features\n",
    "    Returns cluster labels or distances\n",
    "    \"\"\"\n",
    "    # 1) Load PCA & KMeans\n",
    "    pca_path = Path('..','models','pca_fit_base.pickle')\n",
    "    kmeans_path = Path('..','models','kmeans_base_50d.pickle')\n",
    "    \n",
    "    with open(pca_path, 'rb') as f:\n",
    "        pca = pickle.load(f)\n",
    "    with open(kmeans_path, 'rb') as f:\n",
    "        kmeans = pickle.load(f)\n",
    "    \n",
    "    # 2) PCA transform => shape (B, 50)\n",
    "    feats_50 = pca.transform(fc1_batch_4096)\n",
    "    \n",
    "    # 3) KMeans predict or transform\n",
    "    cluster_labels = kmeans.predict(feats_50)\n",
    "    distances = kmeans.transform(feats_50)\n",
    "    \n",
    "    return cluster_labels, distances\n",
    "\n",
    "\n"
   ]
  },
  {
   "cell_type": "code",
   "execution_count": null,
   "metadata": {},
   "outputs": [],
   "source": [
    "# ---------------\n",
    "# Example usage\n",
    "# ---------------\n",
    "if __name__ == \"__main__\":\n",
    "    # Suppose you have a new batch of fc1 features, shape (40, 4096)\n",
    "    # e.g. from your pipeline or a separate model extraction\n",
    "    new_batch_fc1 = np.random.rand(40, 4096).astype(np.float32)  # placeholder\n",
    "    \n",
    "    # Process them\n",
    "    labels, dists = process_new_batch(new_batch_fc1)\n",
    "    \n",
    "    print(\"[INFO] Cluster labels:\", labels)\n",
    "    print(\"[INFO] Distances shape:\", dists.shape)\n",
    "    \n",
    "    # You could check if any images are \"novel\" by distance threshold, etc.\n",
    "    threshold = 15.0\n",
    "    min_dists = np.min(dists, axis=1)\n",
    "    is_novel = min_dists > threshold\n",
    "    print(f\"[INFO] Novel count: {is_novel.sum()} / {len(is_novel)}\")"
   ]
  }
 ],
 "metadata": {
  "kernelspec": {
   "display_name": ".venv",
   "language": "python",
   "name": "python3"
  },
  "language_info": {
   "name": "python",
   "version": "3.12.3"
  }
 },
 "nbformat": 4,
 "nbformat_minor": 2
}
