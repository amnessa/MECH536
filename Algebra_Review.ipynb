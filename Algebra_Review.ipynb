{
 "cells": [
  {
   "cell_type": "markdown",
   "metadata": {},
   "source": [
    "# Linear Algebra Review\n",
    "\n",
    "### Spaces\n",
    "* Normed Vector Space\n",
    "* Banach Space\n",
    "* Inner Product Space\n",
    "* Hilbert Space\n",
    "* Metric Space\n",
    "* Topological Space\n",
    "\n",
    "### Subspaces and their Properties\n",
    "* SubspaceAngles and Distances"
   ]
  },
  {
   "cell_type": "markdown",
   "metadata": {},
   "source": [
    "![alt text](<images/Screenshot from 2024-10-10 16-48-27.png>)"
   ]
  },
  {
   "cell_type": "markdown",
   "metadata": {},
   "source": [
    "![alt text](<images/Screenshot from 2024-10-10 16-50-41.png>)"
   ]
  },
  {
   "cell_type": "markdown",
   "metadata": {},
   "source": [
    "* A vector space is a set of objects that may be added together or multiplied by numbers (called scalars)\n",
    "    * Scalars are typically real numbers\n",
    "        * But can be complex number. rationals numbers, or generally any field\n",
    "    * Vector addition and scalar multiplication must satisfy certain requirements (called axioms)"
   ]
  },
  {
   "cell_type": "markdown",
   "metadata": {},
   "source": [
    "![alt text](<images/Screenshot from 2024-10-10 16-54-48.png>)"
   ]
  },
  {
   "cell_type": "markdown",
   "metadata": {},
   "source": [
    "* A vector space may have additional structures such as a norm or inner product.\n",
    "    * This is typical for infinite dimensional function spaces whose vectors are functions\n",
    "* Many practical problems require ability to decide whether a sequence of vectors converges to a given vector\n",
    "    * In order to allow proximity and continuity considerations, most vector spaces are endowed with a suitable topology.\n",
    "        * A topology is a structure that allows to define \"being close to each other\" \n",
    "        * Such topological vector spaces have richer theory\n",
    "            - Banach space topology is given by a norm\n",
    "            - Hilbert space topology is given by an inner product."
   ]
  },
  {
   "cell_type": "markdown",
   "metadata": {},
   "source": [
    "A set $\\nu$ is called a vector space over field F (often R or C) when vector addition and scalar multiplication satisfies:\n",
    "\n",
    "**Vector Addition**\n",
    "\n",
    "1. $v+ w \\in \\nu $ for all $ v,w \\in \\nu$\n",
    "2. $(v+w) + u = v + (w+u) \\in \\nu$ for all $v,w,u \\in \\nu$ (Associativity)\n",
    "3. $v+w = w+ v$ for all $ v,w \\in \\nu$ (Commutativity)\n",
    "4. There is an element $0 \\in \\nu$ such that $v+0 =v$ for all $v \\in \\nu$ Identity Element\n",
    "5. For every $v \\in \\nu$, there exist $-v \\in \\nu$ such that $v+ (-v)=0$ (Inverse Element) "
   ]
  },
  {
   "cell_type": "markdown",
   "metadata": {},
   "source": [
    "**Scalar Multiplication**\n",
    "1. $\\alpha v \\in \\nu$ for all $\\alpha \\in F$ and $v \\in \\nu$\n",
    "2. $(\\alpha \\beta)v = \\alpha (\\beta v)$ for all $\\alpha,\\beta \\in F$ and $v \\in \\nu$ (Compatibility)\n",
    "3. $\\alpha(v+w)=\\alpha v + \\alpha w$ for all $\\alpha \\in F$ and $v,w \\in V$\n",
    "4. $(\\alpha + \\beta)v =\\alpha v + \\beta v$ for all $\\alpha, \\beta \\in F$ and $v \\in V$ ( Distributivity)\n",
    "5. 1v =v for all $v \\in V$ (Identitiy Element)"
   ]
  },
  {
   "cell_type": "markdown",
   "metadata": {},
   "source": [
    "### Vector Spaces - Applications\n",
    "* the Fourier transform is widely used in many areas of engineering and science\n",
    "* We can analyze a signal in the time domain or in the frequency domain"
   ]
  },
  {
   "cell_type": "markdown",
   "metadata": {},
   "source": [
    "![alt text](<images/Screenshot from 2024-10-10 17-21-29.png>)"
   ]
  },
  {
   "cell_type": "markdown",
   "metadata": {},
   "source": [
    "### Vector Spaces - Example\n",
    "* When we define the Fourier transform, we need to also define when the transform is well-defined\n",
    "    * The fourier transofrm is defined on a vector space\n",
    "\n",
    "    $L^{1}(R)= {f: R-> C: \\int_{-\\infty}^{\\infty}|f(x)|dx <\\infty}$"
   ]
  },
  {
   "cell_type": "markdown",
   "metadata": {},
   "source": [
    "* What kind of functions have a Fourier series\n",
    "    * Periodic functions\n",
    "        * Let us say $2\\pi$ periodic functions\n",
    "        * We can have Fourier series of functions that belongs to the vector space\n",
    "\n",
    "$L^{2}(-\\pi,\\pi) = {f:(-\\pi,\\pi)-> C: \\int_{-\\pi}^{\\pi}|f(x)|^{2}dx <\\infty}$\n",
    "\n",
    ">If the function does not belong to this space, then the Fourier coefficients may not be well-defined"
   ]
  },
  {
   "cell_type": "markdown",
   "metadata": {},
   "source": [
    "### Basis\n",
    "\n",
    "* Every vector space has a basis\n",
    "* Every vector in a vector space can be written in a unique way as a finite linear combination of the lements in this basis\n",
    "* (#) of elements in a basis is dimension of vector space\n",
    "\n",
    "![alt text](<images/Screenshot from 2024-10-12 19-28-58.png>)"
   ]
  },
  {
   "cell_type": "markdown",
   "metadata": {},
   "source": [
    "### Vector Spaces - Example\n",
    "* All of us know a very well-known vector space: $R^{n}$\n",
    "\n",
    "For $x=(x_{1},x_{2},...x_{n})\\in R^{n}$,  we know that the lenght of vector x\n",
    "\n",
    "$||x|| = (\\sum_{k=1}^{n}|x_{k}|^{2})^{1/2}$ \n",
    "\n",
    "* For general vector spaces, we need a concept that corresponds to length in $R^{n}$\n",
    "* We use \"norm\" instead of \"length\""
   ]
  },
  {
   "cell_type": "markdown",
   "metadata": {},
   "source": [
    "### Norm\n",
    "\n",
    "A norm for a real or complex vector space $\\nu$ is a function\n",
    "$||.||:\\nu->R$\n",
    "\n",
    "with three properties:\n",
    "\n",
    "1. $||x||\\ge 0 $ for all $x \\in V$ and $||x||= 0 <-> x= 0$\n",
    "2. $||\\alpha x|| = |\\alpha| ||x||$ for all scalars and $\\alpha$ and for all $x \\in \\nu$\n",
    "3. $||x+y|| \\le||x||+||y||$ for all $x,y \\in \\nu$\n",
    "\n",
    ">This concept is defined by mimicking what we know about $R^{n}$"
   ]
  },
  {
   "cell_type": "markdown",
   "metadata": {},
   "source": [
    "### Euclidean Vector Norm\n",
    "\n",
    "For a vector $x \\in R^{n}$ the euclidean norm is defined by:\n",
    "\n",
    "$||x||=(x_{1}^{2}+x_{2}^{2}+...x_{n}^{2})$\n",
    "\n",
    "![alt text](<images/Screenshot from 2024-10-12 19-43-07.png>)"
   ]
  },
  {
   "cell_type": "markdown",
   "metadata": {},
   "source": [
    "### p-Norms\n",
    "\n",
    "For $p \\ge 1$, the p-norm of a vector $x \\in R^{n} $ is defined by:\n",
    "\n",
    "$||x||_{p}=(|x_{1}|^{p}+|x_{2}|^{p}+...+|x_{n}|^{p})^{1/p}$\n",
    "\n",
    "![alt text](<images/Screenshot from 2024-10-12 19-47-28.png>)"
   ]
  }
 ],
 "metadata": {
  "language_info": {
   "name": "python"
  }
 },
 "nbformat": 4,
 "nbformat_minor": 2
}
