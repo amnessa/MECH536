{
 "cells": [
  {
   "cell_type": "markdown",
   "metadata": {},
   "source": [
    "# Linear Algebra Review\n",
    "\n",
    "### Spaces\n",
    "* Normed Vector Space\n",
    "* Banach Space\n",
    "* Inner Product Space\n",
    "* Hilbert Space\n",
    "* Metric Space\n",
    "* Topological Space\n",
    "\n",
    "### Subspaces and their Properties\n",
    "* SubspaceAngles and Distances"
   ]
  },
  {
   "cell_type": "markdown",
   "metadata": {},
   "source": [
    "![alt text](<images/Screenshot from 2024-10-10 16-48-27.png>)"
   ]
  },
  {
   "cell_type": "markdown",
   "metadata": {},
   "source": [
    "![alt text](<images/Screenshot from 2024-10-10 16-50-41.png>)"
   ]
  },
  {
   "cell_type": "markdown",
   "metadata": {},
   "source": [
    "* A vector space is a set of objects that may be added together or multiplied by numbers (called scalars)\n",
    "    * Scalars are typically real numbers\n",
    "        * But can be complex number. rationals numbers, or generally any field\n",
    "    * Vector addition and scalar multiplication must satisfy certain requirements (called axioms)"
   ]
  },
  {
   "cell_type": "markdown",
   "metadata": {},
   "source": [
    "![alt text](<images/Screenshot from 2024-10-10 16-54-48.png>)"
   ]
  },
  {
   "cell_type": "markdown",
   "metadata": {},
   "source": [
    "* A vector space may have additional structures such as a norm or inner product.\n",
    "    * This is typical for infinite dimensional function spaces whose vectors are functions\n",
    "* Many practical problems require ability to decide whether a sequence of vectors converges to a given vector\n",
    "    * In order to allow proximity and continuity considerations, most vector spaces are endowed with a suitable topology.\n",
    "        * A topology is a structure that allows to define \"being close to each other\" \n",
    "        * Such topological vector spaces have richer theory\n",
    "            - Banach space topology is given by a norm\n",
    "            - Hilbert space topology is given by an inner product."
   ]
  },
  {
   "cell_type": "markdown",
   "metadata": {},
   "source": [
    "A set $\\nu$ is called a vector space over field F (often R or C) when vector addition and scalar multiplication satisfies:\n",
    "\n",
    "**Vector Addition**\n",
    "\n",
    "1. $v+ w \\in \\nu $ for all $ v,w \\in \\nu$\n",
    "2. $(v+w) + u = v + (w+u) \\in \\nu$ for all $v,w,u \\in \\nu$ (Associativity)\n",
    "3. $v+w = w+ v$ for all $ v,w \\in \\nu$ (Commutativity)\n",
    "4. There is an element $0 \\in \\nu$ such that $v+0 =v$ for all $v \\in \\nu$ Identity Element\n",
    "5. For every $v \\in \\nu$, there exist $-v \\in \\nu$ such that $v+ (-v)=0$ (Inverse Element) "
   ]
  },
  {
   "cell_type": "markdown",
   "metadata": {},
   "source": [
    "**Scalar Multiplication**\n",
    "1. $\\alpha v \\in \\Nu$ for all $\\alpha \\in F$ and $v \\in \\Nu$"
   ]
  }
 ],
 "metadata": {
  "language_info": {
   "name": "python"
  }
 },
 "nbformat": 4,
 "nbformat_minor": 2
}
