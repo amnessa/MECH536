{
  "nbformat": 4,
  "nbformat_minor": 0,
  "metadata": {
    "colab": {
      "provenance": []
    },
    "kernelspec": {
      "name": "python3",
      "display_name": "Python 3"
    },
    "language_info": {
      "name": "python"
    }
  },
  "cells": [
    {
      "cell_type": "markdown",
      "source": [
        "# As usual start with the imports"
      ],
      "metadata": {
        "id": "qr4BWr6JyWi3"
      }
    },
    {
      "cell_type": "code",
      "execution_count": null,
      "metadata": {
        "id": "0Ry2Fvipx-qZ"
      },
      "outputs": [],
      "source": [
        "import numpy as np\n",
        "import matplotlib.pyplot as plt\n",
        "from numpy import cos, arccos, sin, pi, round\n",
        "from numpy.linalg import matrix_rank as rank\n",
        "from numpy.linalg import svd\n",
        "from scipy.linalg import orth\n",
        "!rm bug_numpy_utils.py # just in case\n",
        "!wget https://raw.githubusercontent.com/bugrakoku/bug_python_utils/main/bug_numpy_utils.py\n",
        "from bug_numpy_utils import MatPrint, CData # note that once these files are downloaded you can read their content.\n",
        "!wget https://raw.githubusercontent.com/bugrakoku/bug_python_utils/main/me536utils.py\n",
        "from me536utils import RotMat"
      ]
    },
    {
      "cell_type": "markdown",
      "source": [
        "## Generate data in 2D, so that it is easily plottable\n",
        "Data from a sort of elliptical regions is generated.\n",
        "It is recommended that you generate other forms of data and play with the following cells.\n",
        "Let $\\mathbf{D}$ be the data matrix."
      ],
      "metadata": {
        "id": "QrGcBuSJNcPW"
      }
    },
    {
      "cell_type": "code",
      "source": [
        "# generate data on an elliptic region in 2D\n",
        "N = 100# number of data points\n",
        "#'''\n",
        "# random data\n",
        "AR = 5 # aspect ratio of the ellipse\n",
        "D = np.random.randn(2,N)\n",
        "B = orth(np.random.rand(2,2))\n",
        "B[:, 0] *= AR # let the first random axis be the longer one\n",
        "D = B @ D\n",
        "title = 'kinda elliptic, or linear or so...'\n",
        "#'''\n",
        "\n",
        "'''\n",
        "# generate circle\n",
        "r = 5\n",
        "n = 0\n",
        "D = np.array([[r*cos(theta), r*sin(theta)] for theta in np.linspace(-pi,pi,N)] ).T\n",
        "title = 'circle'\n",
        "#'''\n",
        "CData(D, title)"
      ],
      "metadata": {
        "id": "pB1xIkrOy5Xh"
      },
      "execution_count": null,
      "outputs": []
    },
    {
      "cell_type": "markdown",
      "source": [
        "## $\\mathbf{D}$ is the original data matrix\n",
        "Now randomly translate it to a $d$ dimensional space to obtain $\\mathbf{D}_d$, and check the rank and singular values of $\\mathbf{D}_d$.  \n",
        "Observe the number of non-zero singular values and explain why?  \n",
        "\n",
        "Also run the below cell several times and check out the singular values. Even though the basis $\\mathbf{B}_b$ is random, why are the singular values the way they are?"
      ],
      "metadata": {
        "id": "62P-UiNQ0nl6"
      }
    },
    {
      "cell_type": "code",
      "source": [
        "# get a random basis for d-dimensional space\n",
        "d = 10 # you can play with d, but in general the idea is that it should be larger than 3\n",
        "Bd = orth(np.random.rand(d,2)) # basis to project up to higher dimensions, let's save it just in case, but why is it (d,2)?\n",
        "Dd = Bd @ D # project 2D data to d-D\n",
        "print(f'Columns of Dd come from {d}-dimensional space yet columns are trapped in a {rank(Dd)}-dimensional subspace')\n",
        "U,S,Vt = svd(Dd) #'lets check out the singular values\n",
        "print(f'\\nsingular values: {np.round(S,3)}')"
      ],
      "metadata": {
        "id": "YR9ipZXI01Nl"
      },
      "execution_count": null,
      "outputs": []
    },
    {
      "cell_type": "markdown",
      "source": [
        "## let's transfer $\\mathbf{D}_d$ away from the origin\n",
        "Add a random displacement vector to $\\mathbf{D}_d$ to obtain $\\mathbf{D}_{da}$ and check the rank and singular values again. Make sure that the new rank and singular values meet your expectations.  \n",
        "\n",
        "Also run the following cell many times, and check out the singular values. What is different?\n",
        "\n",
        "While testing also change the ```distMultiplier``` to values much higher and lower and observe singular value change."
      ],
      "metadata": {
        "id": "juR7qVyb2ALL"
      }
    },
    {
      "cell_type": "code",
      "source": [
        "distMultiplier = 10\n",
        "dispV =  np.random.rand(d,1) * distMultiplier\n",
        "Dda = Dd + dispV # subspace Dd becomes affine\n",
        "print(f'Columns of Dd come from {d}-dimensional space yet columns are trapped in a {rank(Dda)}-dimensional subspace, or are they?\\n')\n",
        "U,S,Vt = svd(Dda)\n",
        "print(f'singular values: {np.round(S,3)}')"
      ],
      "metadata": {
        "id": "SscrNlkI2SNU"
      },
      "execution_count": null,
      "outputs": []
    },
    {
      "cell_type": "markdown",
      "source": [
        "## Finally add some noise to $\\mathbf{D}_{da}$ to obtain $\\mathbf{D}_{dan}$\n",
        "add a factor to scale noise level  \n",
        "observe how the lower 7 singular values are no more 0!  \n",
        "\n",
        "We are done with generation of data. Next, we will start moving them back to $2D$"
      ],
      "metadata": {
        "id": "W8BiEEQB13bt"
      }
    },
    {
      "cell_type": "code",
      "source": [
        "nl = 0.01 # change noise level via this\n",
        "Ddan = Dda + np.random.randn(*Dda.shape) * nl\n",
        "print(f'Columns of Dd come from {d}-dimensional space yet columns are trapped in a {rank(Ddan)}-dimensional subspace, or are they?')\n",
        "U,S,Vt = svd(Ddan)\n",
        "MatPrint(np.round(S,3), '\\nsingular values of the noisy matrix')\n"
      ],
      "metadata": {
        "id": "TcHuZi7zznq2"
      },
      "execution_count": null,
      "outputs": []
    },
    {
      "cell_type": "markdown",
      "source": [
        "# This following is the reconstruction of the 2D data from $d-dimensional$ space\n",
        "\n",
        "Start using the non-noisy, subspace data $\\mathbf{D}_d$ first, step by step get the data back to 2D and compare your reconstructed matrix in $2D$ with the original $\\mathbf{D}$.\n",
        "\n",
        "Then come back and this time use the data in the affine space, i.e. $\\mathbf{D}_{Da}$, and finally use the one that is noisy, i.e. $\\mathbf{D}_{Dan}$.  \n",
        "\n",
        "Note that you can change the noise level above to see what happens in your data rescue mission if noise levels get high."
      ],
      "metadata": {
        "id": "XJo-nJ-258Eb"
      }
    },
    {
      "cell_type": "markdown",
      "source": [
        "### Start with the non-noisy case: $\\mathbf{D}_d$\n",
        "and work your way back to 2D to get the best possible match"
      ],
      "metadata": {
        "id": "EObSF7iF6Ry5"
      }
    },
    {
      "cell_type": "code",
      "source": [
        "# use either the noisy or the clean matrix\n",
        "DT = Dd\n",
        "#DT = Dda # use data from affine space next\n",
        "#DT = Ddan # use noisy data last\n",
        "\n",
        "# remember zero mean before anything, evenif you think it is not needed\n",
        "zm = np.mean(DT, axis=1).reshape((d,1)) # get the mean\n",
        "\n",
        "MatPrint(zm-dispV, 'zero mean diff') # WHY IS THIS NOT ZERO? evaluate this for different cased i.e. Dd, Dda, Ddan\n",
        "\n",
        "Dd2 = DT - zm\n",
        "\n",
        "U, S, Vt = svd(Dd2)\n",
        "\n",
        "# now write everything with respect to the U using its first 2 columns\n",
        "C = np.diag(S)[0:2,0:2] @ Vt[0:2,:]"
      ],
      "metadata": {
        "id": "s7xoyoEP0A9H"
      },
      "execution_count": null,
      "outputs": []
    },
    {
      "cell_type": "markdown",
      "source": [
        "## Check out the combined rank\n",
        "Before even running the following block, read the code, and guess how the singular values are going to come out."
      ],
      "metadata": {
        "id": "dP51pxG6q_CH"
      }
    },
    {
      "cell_type": "code",
      "source": [
        "# Check out that U and Bd are spanning the same plane in case of no noise\n",
        "# almost the same plane in case of noise\n",
        "# first print the 2 different basis vectors\n",
        "MatPrint(U[:,0:2], 'First 2 columns of U')\n",
        "MatPrint(Bd, '\\nOriginal basis')\n",
        "\n",
        "# now check out the singular values of the combined matrix\n",
        "U, S, Vt = svd(np.hstack((U[:,0:2], Bd)))\n",
        "MatPrint(S, '\\nSingular values of the combined matrix')"
      ],
      "metadata": {
        "id": "KOBDI4Z4q_mM"
      },
      "execution_count": null,
      "outputs": []
    },
    {
      "cell_type": "markdown",
      "source": [
        "### Plot the original and the recovered"
      ],
      "metadata": {
        "id": "AgSLYuHLsXOt"
      }
    },
    {
      "cell_type": "code",
      "source": [
        "plt.plot(D[0,:], D[1,:], 'r*')\n",
        "plt.plot(C[0,:], C[1,:], 'g+')\n",
        "plt.legend(['original', 'recovered'])"
      ],
      "metadata": {
        "id": "SEazIccC6z2h"
      },
      "execution_count": null,
      "outputs": []
    },
    {
      "cell_type": "markdown",
      "source": [
        "## Why is the recovered data aligned with the $X-axis$?\n",
        "Think about how you can align the recovered data to the best you can with the original?\n",
        "\n",
        "Hint: Check out the first left singular values?"
      ],
      "metadata": {
        "id": "EHeM8AeZobj8"
      }
    },
    {
      "cell_type": "code",
      "source": [
        "# align both matrices to the best you can"
      ],
      "metadata": {
        "id": "VcjGZVGNURpa"
      },
      "execution_count": null,
      "outputs": []
    },
    {
      "cell_type": "markdown",
      "source": [
        "##Note that:\n",
        "Even when there is no noise, when data matrices are alined using first singular values as reference from both matrices, they might not perfectly align!\n",
        "When would this occur and how can you solve this problem?"
      ],
      "metadata": {
        "id": "vs66fwRx3e6q"
      }
    },
    {
      "cell_type": "code",
      "source": [
        "# this time align for sure."
      ],
      "metadata": {
        "id": "Fj46Gr0i3Y17"
      },
      "execution_count": null,
      "outputs": []
    }
  ]
}