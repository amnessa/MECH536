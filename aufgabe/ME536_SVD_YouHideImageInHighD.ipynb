{
  "nbformat": 4,
  "nbformat_minor": 0,
  "metadata": {
    "colab": {
      "provenance": []
    },
    "kernelspec": {
      "name": "python3",
      "display_name": "Python 3"
    },
    "language_info": {
      "name": "python"
    }
  },
  "cells": [
    {
      "cell_type": "markdown",
      "source": [
        "# **Your Full Name and Student Number**"
      ],
      "metadata": {
        "id": "htBKVXqf3tDe"
      }
    },
    {
      "cell_type": "markdown",
      "source": [
        "# **ME 536**\n",
        "\n",
        "### Hide Words In High Dimensions\n",
        "### then find and count them :)"
      ],
      "metadata": {
        "id": "IO8uCGaWqUTo"
      }
    },
    {
      "cell_type": "code",
      "source": [
        "# only importing from following libraries are allowed. You can add more imports from them, but no new libraries here\n",
        "from skimage import io\n",
        "from skimage.filters import threshold_otsu as otsu\n",
        "import numpy as np\n",
        "from scipy.linalg import orth\n",
        "from numpy.linalg import matrix_rank as rank\n",
        "import matplotlib.pyplot as plt\n",
        "import plotly.graph_objects as go\n",
        "import sklearn\n",
        "\n",
        "\n",
        "# also import the matrix printing function\n",
        "!rm bug_numpy_utils.py 2> dump.me\n",
        "!wget https://raw.githubusercontent.com/bugrakoku/bug_python_utils/main/bug_numpy_utils.py\n",
        "from bug_numpy_utils import CData as CMe\n",
        "from bug_numpy_utils import GenerateDataforImage as GenImMat\n",
        "from bug_numpy_utils import text2mat"
      ],
      "metadata": {
        "id": "WVNiukn8wyxP"
      },
      "execution_count": null,
      "outputs": []
    },
    {
      "cell_type": "markdown",
      "source": [
        "# Intro to Basics: Assignment has not started yet!\n",
        "This is the warm up"
      ],
      "metadata": {
        "id": "zZEa-nLiEhqa"
      }
    },
    {
      "cell_type": "markdown",
      "source": [
        "## Generate and plot reference text\n",
        "Generate data matrices based on two strings of same length.  \n",
        "Columns of these matrices are data points, which when plotted is read as the given string.\n",
        "If you prefer strings of different lengths, fill in the short string with a character.  \n",
        "Using pyplot display the data points to make sure that they are readable.  \n"
      ],
      "metadata": {
        "id": "Lm7YOvsyEgIM"
      }
    },
    {
      "cell_type": "code",
      "source": [
        "S1 = 'tencere'\n",
        "S2 = 'pencere'\n",
        "T1, T1num = text2mat(S1)\n",
        "T2, T2num = text2mat(S2)\n",
        "\n",
        "# just that we get to understand ```text2mat``` function let's print the output of the function\n",
        "print(f'Shape of T1 = {T1.shape}, where letters of \"{S1}\" has {T1num} data points in each corresponding letter')\n",
        "print(f'Shape of T2 = {T2.shape}, where letters of \"{S2}\" has {T2num} data points in each corresponding letter')"
      ],
      "metadata": {
        "id": "BVEyPxKC8sSH"
      },
      "execution_count": null,
      "outputs": []
    },
    {
      "cell_type": "code",
      "source": [
        "fig, axes = plt.subplots(1, 2, figsize=(10, 5))\n",
        "\n",
        "# Plot T1\n",
        "axes[0].plot(T1[0, :], T1[1, :], '*r')\n",
        "axes[0].set_title('T1')\n",
        "axes[0].set_xlabel('X')\n",
        "axes[0].set_ylabel('Y')\n",
        "axes[0].grid(True)\n",
        "\n",
        "# Plot T2\n",
        "axes[1].plot(T2[0, :], T2[1, :], '*b')\n",
        "axes[1].set_title('T2')\n",
        "axes[1].set_xlabel('X')\n",
        "axes[1].set_ylabel('Y')\n",
        "axes[1].grid(True)\n",
        "\n",
        "plt.tight_layout()\n",
        "plt.show()"
      ],
      "metadata": {
        "id": "zoVjt-6q9Pl0"
      },
      "execution_count": null,
      "outputs": []
    },
    {
      "cell_type": "markdown",
      "source": [
        "### See them in 3D"
      ],
      "metadata": {
        "id": "FsLHvoZvQnLN"
      }
    },
    {
      "cell_type": "code",
      "source": [
        "# CELL 1\n",
        "# also let's see these text in 3D\n",
        "# note that text2mat actually provides data in 3D but with z=0, hence text is on XY plane\n",
        "CMe(T1, f'{S1}')\n",
        "CMe(T2, f'{S2}')"
      ],
      "metadata": {
        "id": "EViX-BdpQalu"
      },
      "execution_count": null,
      "outputs": []
    },
    {
      "cell_type": "markdown",
      "source": [
        "## Recall random uniform vs normal distribution\n",
        "This implies noise will be added later in the assignment :)"
      ],
      "metadata": {
        "id": "5MsP2q1Oq261"
      }
    },
    {
      "cell_type": "code",
      "source": [
        "N1 = np.random.rand(2,1000)\n",
        "N2 = np.random.randn(2,1000)\n",
        "\n",
        "fig, axes = plt.subplots(1, 2, figsize=(10, 5))\n",
        "\n",
        "# Plot N1\n",
        "axes[0].plot(N1[0, :], N1[1, :], '*r')\n",
        "axes[0].set_title('Uniform')\n",
        "axes[0].set_xlabel('X')\n",
        "axes[0].set_ylabel('Y')\n",
        "axes[0].grid(True)\n",
        "\n",
        "# Plot N2\n",
        "axes[1].plot(N2[0, :], N2[1, :], '*b')\n",
        "axes[1].set_title('Normal')\n",
        "axes[1].set_xlabel('X')\n",
        "axes[1].set_ylabel('Y')\n",
        "axes[1].grid(True)\n",
        "\n",
        "plt.tight_layout()\n",
        "plt.show()"
      ],
      "metadata": {
        "id": "61sjrTI3q2Mj"
      },
      "execution_count": null,
      "outputs": []
    },
    {
      "cell_type": "markdown",
      "source": [
        "# Assignment starts here\n",
        "Read the following cells carefully and respond by filling in the code and text cells. Your explanations brief yet clear.\n",
        "\n",
        "You are to practice and hopefully get better if not excel in SVD usage at the end of this assignment."
      ],
      "metadata": {
        "id": "cjzSCyqtS0oI"
      }
    },
    {
      "cell_type": "markdown",
      "source": [
        "## Let's generate some reference text as we did above.\n",
        "I will change this text (i.e. ```S1,S2```) while grading, and run the following many times to see how your code works.  \n",
        "\n",
        "You can try likewise, however, make sure that your submission does not involve any of your personal test code.  \n",
        "\n",
        "I will refer the reference text using ```T1``` or ```T2``` in the remainder of this assignment. I might also use ```S1``` and ```T1``` interchangebly to refer to the same text content."
      ],
      "metadata": {
        "id": "L9icDCPRTF2R"
      }
    },
    {
      "cell_type": "code",
      "source": [
        "# similar to above, generate reference text\n",
        "S1 = 'tencere'\n",
        "S2 = 'pencere'\n",
        "T1, T1num = text2mat(S1)\n",
        "T2, T2num = text2mat(S2)\n",
        "\n",
        "# let's make sure that we start with a 2D array, recall that text2mat function retuns a 3xK matrix with K data points\n",
        "T1 = T1[0:2, :] # get only the XY coordinates of the data points, note that text2mat retuns 3D data points with z = 0\n",
        "T2 = T2[0:2, :] # get only the XY coordinates of the data points, note that text2mat retuns 3D data points with z = 0"
      ],
      "metadata": {
        "id": "vjQ4AgeuTywd"
      },
      "execution_count": null,
      "outputs": []
    },
    {
      "cell_type": "code",
      "source": [
        "# CELL 2\n",
        "Np = 3 # dimension of the ambient space to which data will be projected\n",
        "B = np.random.rand(Np,2) # generate a random basis\n",
        "ND_Data = B@T1 # convert or project 2D data points to Np Dimensions, in other words project data points onto a plane in some Np-Dimensional space\n",
        "# we start with 3 dimensions so that we can view\n",
        "# let's view the projected text in 3D\n",
        "CMe(ND_Data)"
      ],
      "metadata": {
        "id": "k2GsVeFOsU-I"
      },
      "execution_count": null,
      "outputs": []
    },
    {
      "cell_type": "markdown",
      "source": [
        "### Explain - 1:\n",
        "Run the above code couple of times to observe that the text ```T1``` is seen as if it is written in *italic*. It might even seem printed in reverse or its mirror image.\n",
        "\n",
        "Briefly explain, why the text is not as readable as it is seen when 'CELL 1' under \"See them in 3D\" is run.\n",
        "\n",
        "\n",
        "**HINT**: If you do not see the reason why, or the plot does not seem right at firt, try running this cell with ```Np=2``` couple of times in CELL 2"
      ],
      "metadata": {
        "id": "O7sm5Y31VVOC"
      }
    },
    {
      "cell_type": "markdown",
      "source": [
        "### Fix the code in 'CELL 2' so that\n",
        "It does look in the same shape despite it is always projected randomly to some plane in 3D.  \n",
        "\n",
        "Note that if 3 is change with N, your code should also work for N-D.  "
      ],
      "metadata": {
        "id": "HpLx-2ikWNVP"
      }
    },
    {
      "cell_type": "code",
      "source": [
        "# when this cell is run, similar to 'CELL 2', text in T1 will be project onto a plane in Nd-Dimensions\n",
        "# in order so that we can generate high dimensional data later in the assignment\n",
        "# you are to fill in the following function\n",
        "\n",
        "def DataInND(M, Nd = 3, NoiseLevel = 0.0, NoiseType = 'Normal'):\n",
        "    '''\n",
        "    M is a 2xK matrix, indicating that there are K data points in 2D\n",
        "    Nd is the dimension to which data in M will be projected onto a random plane, Nd defaults to 3\n",
        "    After projection Res is a NdxK matrix, it should be rank-2 at this point\n",
        "    If NoiseLevel is not zero:\n",
        "        a random matrix that is also NdxK and this matrix is added to the Res\n",
        "        after being multiplied by NoiseLevel\n",
        "    Random matrix is generated using randn() if NoiseType is 'Normal' else rand()\n",
        "\n",
        "    Finally Res is returned\n",
        "    '''\n",
        "    Res = None\n",
        "\n",
        "\n",
        "\n",
        "    return Res\n",
        "\n",
        "# do not change the following\n",
        "# if your function works, following should work\n",
        "ND_Data = DataInND(T1)\n",
        "\n",
        "# at the end the following display the data in\n",
        "if Nd == 3: # let's plot if it si viewable\n",
        "    CMe(ND_Data)"
      ],
      "metadata": {
        "id": "lIouogQ2PCg8"
      },
      "execution_count": null,
      "outputs": []
    },
    {
      "cell_type": "markdown",
      "source": [
        "## Let's move on to higher dimensions\n",
        "\n",
        "Now, let's step by step move on to higher dimensions.  \n",
        "First we will look at the no noise case and increase intensity"
      ],
      "metadata": {
        "id": "dcgXEbgEu9VA"
      }
    },
    {
      "cell_type": "code",
      "source": [
        "# using your function let's create data in Nd\n",
        "ND_Data = DataInND(T1, Nd = 10) # note that no noise is added\n",
        "\n",
        "# Your code starts here\n",
        "# starting with ND_Data your code should project the text in T1 to a plane\n",
        "# extract the X, Y coordinates\n",
        "X = None\n",
        "Y = None\n",
        "\n",
        "\n",
        "# Your code ends here and X and Y cooridantes of the\n",
        "\n",
        "# Plot the result\n",
        "plt.plot(X,Y, 'r*')"
      ],
      "metadata": {
        "id": "2McWUvPwvK0Z"
      },
      "execution_count": null,
      "outputs": []
    },
    {
      "cell_type": "markdown",
      "source": [
        "### and there comes the noise"
      ],
      "metadata": {
        "id": "yaey77GbcJLY"
      }
    },
    {
      "cell_type": "code",
      "source": [
        "# using your function let's create data in Nd but this time noise will be added\n",
        "# try differen values of noise, decrease, increase, run this cell many times\n",
        "# get a good understanding of what happens then answer the questions below\n",
        "ND_Data = DataInND(T1, Nd = 10, NoiseLevel=1.1) # note that no noise is added\n",
        "\n",
        "# Your code starts here\n",
        "# Despite the contamination in ND_Data\n",
        "# your code should project the text in T1 to a plane\n",
        "# and extract the X, Y coordinates\n",
        "X = None\n",
        "Y = None\n",
        "\n",
        "\n",
        "# Your code ends here and X and Y cooridantes of the\n",
        "\n",
        "# Plot the result in 2D\n",
        "plt.plot(X,Y, 'r*')\n",
        "\n"
      ],
      "metadata": {
        "id": "NW84VMfSvrtK"
      },
      "execution_count": null,
      "outputs": []
    },
    {
      "cell_type": "markdown",
      "source": [
        "### Explain - 2:\n",
        "Both clear and noisy data should be handled in a very similar way, simply by using the first 2 left singular vectors and so on...  \n",
        "However, data projected in 2D in both cases are they exactly the same?  \n",
        "What is the difference? What can you say about noise filtering achieved via SVD in this case?\n",
        "Briefly explain.\n"
      ],
      "metadata": {
        "id": "XpkoIElvwYVj"
      }
    },
    {
      "cell_type": "markdown",
      "source": [
        "## Let's fancy\n",
        "Now write another function"
      ],
      "metadata": {
        "id": "vxIRdtppemCv"
      }
    },
    {
      "cell_type": "code",
      "source": [
        "\n",
        "def TwoOrthStrInND(T1, T2, Nd = 10, NoiseLevel = 0.0, NoiseType = 'Normal'):\n",
        "    '''\n",
        "    Accepts 2 data matrices of shape 2xK, preferably that comes from readable strings\n",
        "    Let T1, T2 be two matrices of shape 2xK\n",
        "    This function should project T1 and T2 to seperate and orthogonal planes in Nd-Dimensions\n",
        "    and return Res.\n",
        "    If we project points in Res on to the plane that is spanned by\n",
        "    the first 2 lef-singular vectors T1 should be readable on the plot\n",
        "    Similarly, if we project points in the result on to the plane that is spanned by\n",
        "    the following 2 lef-singular vectors (i.e. the third and the fourth) T2 should be readable on the plot\n",
        "\n",
        "    NoiseLevel and NoiseType is just like before, i.e.:\n",
        "    Noise level generates a random matrix that is also NdxK and this matrix is added to the result\n",
        "    after being multiplied by NoiseLevel\n",
        "    Random matrix is generated using randn() if NoiseType is 'Normal' else rand()\n",
        "    '''\n",
        "    Res = None\n",
        "\n",
        "\n",
        "\n",
        "    return Res\n"
      ],
      "metadata": {
        "id": "5ElmxF3fwXmn"
      },
      "execution_count": null,
      "outputs": []
    },
    {
      "cell_type": "markdown",
      "source": [
        "### Let's try\n",
        "\n",
        "Let's recall that SVD of matrix $\\mathbf{M}$ is:\n",
        "\n",
        "$\\mathbf{M} = \\mathbf{U} \\mathbf{\\Sigma} \\mathbf{V}^T$.\n",
        "\n",
        "here let $u_1$ be the first column of $\\mathbf{U}$, and in general $\\mathbf{u}_i$ is the $i^{th}$ column of $\\mathbf{U}$, or in other words $\\mathbf{u}_i$ is the $i^{th}$ left-singular vector of $\\mathbf{M}$.\n",
        "\n",
        "If we project the outcome of ```TwoOrthStrInNd``` to the plane that is spanned by $\\mathbf{u}_1, \\mathbf{u}_2$, and plotted in 2D the text in ```T1``` should be readable. ```T2``` should not be visible even as a line. A point at the origin is of course acceptalbe.\n",
        "\n",
        "Similarly, if we project the outcome of ```TwoOrthStrInNd``` to the plane that is spanned by $\\mathbf{u}_3, \\mathbf{u}_4$, and plotted in 2D the text in ```T2``` should be readable. Evidently, ```T1``` should not be visible, other than a point at the origin."
      ],
      "metadata": {
        "id": "Gvwae_UJhO06"
      }
    },
    {
      "cell_type": "code",
      "source": [
        "# CELL 3\n",
        "# get the data in Nd\n",
        "Nd_Data = TwoOrthStrInND(T1, T2, Nd = 10, NoiseLevel=0.0)"
      ],
      "metadata": {
        "id": "IvU5sXW9hnlX"
      },
      "execution_count": null,
      "outputs": []
    },
    {
      "cell_type": "code",
      "source": [
        "# Your code starts here\n",
        "# proejct all data point in Nd_Data to the plane spanned by u1,u2 first and then plot in 2D\n",
        "# let the coordinates of Nd_Data on this plane be X1, Y1\n",
        "X1 = None\n",
        "Y1 = None\n",
        "\n",
        "\n",
        "# Your code ends here\n",
        "\n",
        "# let's plot and see\n",
        "plt.plot(X1, Y1, 'r*')"
      ],
      "metadata": {
        "id": "yLJ9yIqTjwEG"
      },
      "execution_count": null,
      "outputs": []
    },
    {
      "cell_type": "code",
      "source": [
        "# Your code starts here\n",
        "# proejct all data point in Nd_Data to the plane spanned by u3,u4 first and then plot\n",
        "# let the coordinates of Nd_Data on this plane be X1, Y1\n",
        "X2 = None\n",
        "Y2 = None\n",
        "\n",
        "\n",
        "# Your code ends here\n",
        "\n",
        "# let's plot and see\n",
        "plt.plot(X2, Y2, 'r*')"
      ],
      "metadata": {
        "id": "vNvg_2Yjjzjl"
      },
      "execution_count": null,
      "outputs": []
    },
    {
      "cell_type": "markdown",
      "source": [
        "### Explain - 3:\n",
        "Going back to CELL 3, change noise level as you did before, observe what happens in your plots as noise gets heavier and explain what you see."
      ],
      "metadata": {
        "id": "ak51Xqerkb3L"
      }
    },
    {
      "cell_type": "markdown",
      "source": [
        "## Even fancier: Consider this as bonus\n"
      ],
      "metadata": {
        "id": "sIZ6gAgVk-UJ"
      }
    },
    {
      "cell_type": "code",
      "source": [
        "\n",
        "def TwoFacesOfAPrism(T1, T2, Nd = 10, NoiseLevel = 0.0, NoiseType = 'Normal'):\n",
        "    '''\n",
        "    Similar to TwoOrthStrInND,\n",
        "    Accepts 2 data matrices of shape 2xK, preferably that comes from readable strints\n",
        "    Let T1, T2 be two matrices of shape 2xK\n",
        "    This function should project T1 and T2 to seperate and orthogonal planes in Nd-Dimensions\n",
        "    and return the resulting matrix: Res\n",
        "    However, this time it is a bit different:\n",
        "    If we reconstruct a rank-3 approximation of the result and use the coordiates of points in Res\n",
        "    with respoect to the first 3 columns of the U matrix that is in rank-3 approximation\n",
        "    this will result in a 3xK matrix and ploting this matrix using CMe() function,\n",
        "    T1 and T2 should be on orthgonal planes\n",
        "    i.e. if we rotate the plot so that T1 is readable, T2 should not be visible\n",
        "    When this scene is propelry rotated by 90 degrees, T2 should be readable but not T1\n",
        "\n",
        "    NoiseLevel and NoiseType is just like before, i.e.:\n",
        "    Noise level generates a random matrix that is also NdxK and this matrix is added to the result\n",
        "    after being multiplied by NoiseLevel\n",
        "    Random matrix is generated using randn() if NoiseType is 'Normal' else rand()\n",
        "\n",
        "    returns Res, i.e. a matrix of shape NdxK\n",
        "    '''\n",
        "    Res = None\n",
        "\n",
        "\n",
        "\n",
        "    return Res\n"
      ],
      "metadata": {
        "id": "Ov-U1xUPlDh5"
      },
      "execution_count": null,
      "outputs": []
    },
    {
      "cell_type": "markdown",
      "source": [
        "### Let's try\n",
        "\n",
        "\n",
        "In this case lets assume that $\\tilde{\\mathbf{M}}_3$ is the rank-3 approximation of $\\mathbf{M}$.\n",
        "\n",
        "Given that: $\\mathbf{M} = \\mathbf{U} \\mathbf{\\Sigma} \\mathbf{V}^T$, then\n",
        "\n",
        "$\\tilde{\\mathbf{M}}_3 = \\begin{bmatrix} \\mathbf{u}_1 & \\mathbf{u}_2 & \\mathbf{u}_3  \\end{bmatrix}  \\begin{bmatrix} \\sigma_1 & 0 & 0 \\\\ 0 & \\sigma_2 & 0 \\\\ 0 & 0 & \\sigma_3 \\end{bmatrix} \\begin{bmatrix} \\mathbf{v}_1^T \\\\ \\mathbf{v}_2^T \\\\ \\mathbf{v}_3^T   \\end{bmatrix}$ = $\\begin{bmatrix} \\mathbf{u}_1 & \\mathbf{u}_2 & \\mathbf{u}_3  \\end{bmatrix} \\mathbf{C} $\n",
        "\n",
        "Recall that $\\mathbf{u}_i, \\mathbf{v}_j$ are column vectors and columns of $\\mathbf{C}$ contains the coordinates of points in $\\mathbf{M}$ when they are projected down to $3D$.  \n",
        "\n",
        "Therefore, finding $\\mathbf{C}$ and plotting as follows:  \n",
        "```CMe(C)```  \n",
        "should provide the plot.  \n",
        "When you rotate this plot so that ```S1``` is readable, ```S2``` should not be visible, and when you rotate the view properly for $90$$ degress, ```S2``` should be readable, but not ```S1```. This is as if you are vertically looking onto two neigbouring faces of a rectangular prism, and seeing different strings on each face.  \n",
        "\n",
        "Check out the demo cell below. If you look at XY plane vertically, you should read ```FACE```, if you rotate it 90 degrees and look at XZ plane, you see just some random points. If you implement this part properly, on XY plane you should read ```S1``` and on XZ plane ```S2``` should be readable.\n",
        "\n",
        "However, note that this implies more that just printing on the face of a prism, which is not the answer to this question. Becasue if you do so, when ```S1``` is printed, ```S2``` will show up as a line.\n",
        "\n",
        "What is required is, when we look at the in the direction to see ```S1```, ```S2``` should not leave a mark on the scened, and vice versa in the no noise case. Of course noise will contaminate the scene and effect the result.\n"
      ],
      "metadata": {
        "id": "x_uARZsdvsVB"
      }
    },
    {
      "cell_type": "code",
      "source": [
        "# demo cell\n",
        "Tdemo, _ = text2mat('FACE')\n",
        "Tdemo = Tdemo + np.random.randn(*Tdemo.shape)*0.01\n",
        "CMe(Tdemo)"
      ],
      "metadata": {
        "id": "pTF635dV0k4M"
      },
      "execution_count": null,
      "outputs": []
    },
    {
      "cell_type": "code",
      "source": [
        "# CELL 4\n",
        "# get the data in Nd\n",
        "Nd_Data = TwoFacesOfAPrism(T1, T2, Nd = 10, NoiseLevel=0.0)"
      ],
      "metadata": {
        "id": "EwVk9SPEMlRk"
      },
      "execution_count": null,
      "outputs": []
    },
    {
      "cell_type": "code",
      "source": [
        "# Your code starts here\n",
        "# proejct all data point in Nd_Data to the plane spanned by u1,u2 first and then plot in 2D\n",
        "# let the coordinates of Nd_Data on this plane be X1, Y1\n",
        "X = None\n",
        "Y = None\n",
        "Z = None\n",
        "\n",
        "\n",
        "# Your code ends here\n",
        "\n",
        "# let's plot and see\n",
        "plt.plot(X1, Y1, 'r*')"
      ],
      "metadata": {
        "id": "oH6af_Zxq_6v"
      },
      "execution_count": null,
      "outputs": []
    },
    {
      "cell_type": "markdown",
      "source": [
        "### Explain - 4:\n",
        "Going back to CELL 4, change noise level as you did before, observe what happens in your plots as noise gets heavier and explain what you see."
      ],
      "metadata": {
        "id": "yR6CwJtdrH5Q"
      }
    }
  ]
}