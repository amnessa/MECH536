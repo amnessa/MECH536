{
 "cells": [
  {
   "cell_type": "markdown",
   "metadata": {
    "id": "htBKVXqf3tDe"
   },
   "source": [
    "# **Çağdaş Güven 2738938**"
   ]
  },
  {
   "cell_type": "markdown",
   "metadata": {
    "id": "IO8uCGaWqUTo"
   },
   "source": [
    "# **ME 536**\n",
    "\n",
    "### Find and count characters and their elements in strings\n",
    "Check if you can see the hidden ***SVD flavor*** somewhere in the requirements!"
   ]
  },
  {
   "cell_type": "code",
   "execution_count": null,
   "metadata": {
    "id": "WVNiukn8wyxP"
   },
   "outputs": [],
   "source": [
    "# only importing from following libraries are allowed. You can add more imports from them, but no new libraries here\n",
    "from skimage import io\n",
    "from skimage.filters import threshold_otsu as otsu\n",
    "import numpy as np\n",
    "from scipy.linalg import orth\n",
    "from scipy.spatial import distance_matrix\n",
    "from scipy.ndimage import gaussian_filter\n",
    "from scipy.sparse.csgraph import laplacian\n",
    "from scipy.linalg import eigh\n",
    "from numpy.linalg import matrix_rank as rank\n",
    "import matplotlib.pyplot as plt\n",
    "import plotly.graph_objects as go\n",
    "from sklearn.preprocessing import normalize, StandardScaler\n",
    "from scipy.cluster.hierarchy import dendrogram, linkage\n",
    "from sklearn.decomposition import TruncatedSVD\n",
    "from scipy.cluster.hierarchy import linkage, fcluster\n",
    "from scipy.spatial.distance import pdist\n",
    "from sklearn.cluster import SpectralClustering\n",
    "from sklearn.neighbors import kneighbors_graph\n",
    "from sklearn.metrics import silhouette_score\n",
    "from sklearn.metrics.pairwise import euclidean_distances, rbf_kernel\n",
    "from sklearn.metrics import pairwise_distances\n",
    "from sklearn.cluster import KMeans # just for demo purposes, you can import more if needed...\n",
    "\n",
    "# also import the matrix printing function\n",
    "!rm bug_numpy_utils.py 2> dump.me ## change these to ! when uploading the file\n",
    "!wget https://raw.githubusercontent.com/bugrakoku/bug_python_utils/main/bug_numpy_utils.py  ## change these to ! when uploading the file\n",
    "from bug_numpy_utils import CData as CMe\n",
    "from bug_numpy_utils import GenerateDataforImage as GenImMat\n",
    "from bug_numpy_utils import text2mat"
   ]
  },
  {
   "cell_type": "markdown",
   "metadata": {
    "id": "zZEa-nLiEhqa"
   },
   "source": [
    "# Intro to Basics: Assignment has not started yet!\n",
    "This is the warm up"
   ]
  },
  {
   "cell_type": "markdown",
   "metadata": {
    "id": "Lm7YOvsyEgIM"
   },
   "source": [
    "## Generate and plot reference text\n",
    "Generate data matrix from a string.\n",
    "\n",
    "Columns of this matrix are data points, which when plotted is read as the given string.  \n",
    "\n",
    "Using pyplot display the data points to make sure that they are readable.  \n",
    "\n",
    "The problem is given in 2D below, play with the ```NoiseLevel``` and observe how data points mere into each other."
   ]
  },
  {
   "cell_type": "code",
   "execution_count": null,
   "metadata": {
    "id": "6Gz5uEez-D3R"
   },
   "outputs": [],
   "source": [
    "# this is a support function to see the result of clustering better\n",
    "\n",
    "def ColorizeChars(M, Mnum = [], Title='some string', figSize = (9, 3),  aspectR = 2):\n",
    "    Indicies = np.hstack((np.array([0]), np.cumsum(Mnum)))\n",
    "    fig, ax = plt.subplots(figsize= figSize) # Increased figure size\n",
    "    # absence of Mnum is that we do not want to colorize the plot\n",
    "    if Mnum is None or Mnum is [] or len(Mnum) == 0:\n",
    "        ax.plot(M[0,:],M[1,:], '*')\n",
    "    else:\n",
    "        for i, uLim in enumerate(Indicies):\n",
    "            if i < len(Indicies)-1:\n",
    "                X = M[0, uLim:Indicies[i+1]]\n",
    "                Y = M[1, uLim:Indicies[i+1]]\n",
    "                #plt.plot(X,Y, '*')\n",
    "                ax.plot(X,Y, '*')\n",
    "    ax.set_aspect(aspectR) # Set the aspect ratio to aspectR:1\n",
    "    ax.set_title(Title)\n",
    "    plt.show()"
   ]
  },
  {
   "cell_type": "code",
   "execution_count": null,
   "metadata": {
    "id": "BVEyPxKC8sSH"
   },
   "outputs": [],
   "source": [
    "S1 = 'hello clustering'\n",
    "T1, T1num = text2mat(S1)\n",
    "\n",
    "# just that we get to understand ```text2mat``` function let's print the output of the function\n",
    "print(f'Shape of T1 = {T1.shape}, where letters of \"{S1}\" has {T1num} data points in each corresponding letter')\n",
    "\n",
    "NoiseLevel = 0.0\n",
    "\n",
    "T1 += NoiseLevel * np.random.randn(*T1.shape)\n",
    "\n",
    "\n",
    "ColorizeChars(T1) # just plot the data as a single chunk\n",
    "ColorizeChars(T1, T1num, Title='clusters marked', figSize=(7,2), aspectR=4) # call this function anyway you like"
   ]
  },
  {
   "cell_type": "markdown",
   "metadata": {
    "id": "NQf2maVY_CBE"
   },
   "source": [
    "### WARNING: Testing conditions is not Vanilla\n",
    "Note that data matrix that will be sent might slightly be manipulated after it is generated with ```text2mat```, way beyond adding noise.  \n",
    "Check out the following to give you an idea.\n",
    "\n",
    "Note that when data matrix is shuffled, color printing makes no sense, because the columns are no more sorted, hence values returned by text2mat does not make sense.  \n"
   ]
  },
  {
   "cell_type": "code",
   "execution_count": null,
   "metadata": {
    "id": "jGelzNgS_alB"
   },
   "outputs": [],
   "source": [
    "# CELL 1\n",
    "Stest = 'ahanda boyle'\n",
    "Ttest, Tnum = text2mat(Stest)\n",
    "noiseLevel = 0.9\n",
    "\n",
    "#'''\n",
    "# original text\n",
    "V1 = Ttest[0:2, :]\n",
    "ColorizeChars(V1, Title='Original text')\n",
    "#'''\n",
    "\n",
    "#'''\n",
    "# contaminated ... play with noise levels\n",
    "V2 = V1 + noiseLevel * np.random.randn(*V1.shape)\n",
    "ColorizeChars(V2, Tnum, Title=f'Noisy level = {noiseLevel}')\n",
    "#'''\n",
    "\n",
    "#'''\n",
    "# extended or shrung along X-Y axis\n",
    "V3 = np.copy(V1)\n",
    "Xscale = 0.4\n",
    "Yscale = 1.2\n",
    "V3[0,:] *= Xscale\n",
    "V3[1,:] *= Yscale\n",
    "ColorizeChars(V3, Tnum, Title=f'Scaled along X and Y by =[{Xscale}, {Yscale} ]')\n",
    "#'''\n",
    "\n",
    "#'''\n",
    "V4 = np.copy(V3)\n",
    "V4 = V4[:, np.random.permutation(V4.shape[1])]\n",
    "ColorizeChars(V4, Tnum, Title='columns are shuffled, this is where fun begins')\n",
    "#'''\n",
    "\n",
    "#'''\n",
    "V5 = orth(np.random.rand(2,2)) @ V2\n",
    "ColorizeChars(V5, Tnum, Title='rotated randomly and noisy,  more fun :) ', aspectR=1)\n",
    "#'''\n",
    "\n",
    "\n",
    "#'''\n",
    "V6 = V5[:, np.random.permutation(V5.shape[1])]\n",
    "ColorizeChars(V6, Tnum, Title='shuffled and rotated and contaminated, almost the peak of fun', figSize=(7,7))\n",
    "#'''"
   ]
  },
  {
   "cell_type": "markdown",
   "metadata": {
    "id": "cjzSCyqtS0oI"
   },
   "source": [
    "# Assignment starts here\n",
    "Read the following cells carefully and respond by filling in the code and text cells. Your explanations brief yet clear.\n",
    "\n",
    "This assignment will hopefully make you better in clustering simple cases :)  \n",
    "For harder cases, we will talk about artificial neural networks..."
   ]
  },
  {
   "cell_type": "markdown",
   "metadata": {
    "id": "Qpz4tsBxrlr8"
   },
   "source": [
    "## Let's start with a show case\n",
    "Note that ```text2mat``` function returns a data matrix and a list.  \n",
    "Also note that the data matrix is sorted, so that the first groups of points belong to the first letter, second group to the second letter and so on.  \n",
    "The list contains the number of points in each groups that correspond to the letters in the text that is sent to the function.\n",
    "\n",
    "So your objective indeed is to recover clusters, sort them, so that when we print, it plot them using what is returned from your function, it plots properly.  \n",
    "\n",
    "However, note that your sorting algorithm is not necessarily expected to find the order of clusters (i.e. letters), it is possible that you read the string from the end to beginning. By running the following you will see that the text might even be mirrorred. Under any circumstance, you should be able to find the alignment of the text, it does not matter wheter it is backwards or mirrorred, cluster it and return the sorted matrix along with the number of elements in each cluster, similar to what ```text2mat``` does. When we plot it using ```ColorizeChars``` it should look meaningful.\n",
    "\n",
    "In other words, your element count list should either be similar to what text2sum returns or to the inverse of the list.  \n",
    "\n",
    "Run the following cell for different noise levels and observe the changes.\n"
   ]
  },
  {
   "cell_type": "markdown",
   "metadata": {
    "id": "EK-0g7kFtuPw"
   },
   "source": [
    "## Clustering time:\n",
    "Using any approach you like sort points in the given data matrix.\n",
    "You can use hence import other sub-libraries in already imported libraries above.  \n",
    "No new libraries...\n",
    "\n",
    "Objective is to see if you can find letters indiviually.  \n",
    "In other words, after we shuffle everything, objective is to check if you can"
   ]
  },
  {
   "cell_type": "markdown",
   "metadata": {
    "id": "zjTrGucYwOn7"
   },
   "source": [
    "### Implemet the sorting function: i.e. ```SortPoints()```\n",
    "If you would like to seperate this function into smaller other functions, write them in the support functions cell"
   ]
  },
  {
   "cell_type": "code",
   "execution_count": null,
   "metadata": {
    "id": "eAXHrvYs05V4"
   },
   "outputs": [],
   "source": [
    "# support functions goes in here so that I run them before SortPoints()\n",
    "# write as many as needed\n",
    "#\n",
    "\n",
    "def find_optimal_k_dendrogram(M, max_k=25, threshold=150, debug=False):\n",
    "    \"\"\"\n",
    "    Determine the optimal number of clusters (K) using Dendrogram analysis with a fixed distance threshold.\n",
    "\n",
    "    Args:\n",
    "        M (ndarray): Input data matrix (D x N).\n",
    "        max_k (int): Maximum number of clusters to consider for truncating dendrogram.\n",
    "        threshold (float): Distance threshold to determine clusters.\n",
    "        debug (bool): If True, displays the dendrogram for visualization.\n",
    "\n",
    "    Returns:\n",
    "        optimal_k (int): Optimal number of clusters determined by dendrogram analysis.\n",
    "    \"\"\"\n",
    "    # Transpose M if it's in D x N format\n",
    "    if M.shape[0] < M.shape[1]:\n",
    "        M = M.T\n",
    "\n",
    "    # Compute the linkage matrix using Ward's method\n",
    "    Z = linkage(M, method='ward')\n",
    "\n",
    "    # Plot dendrogram if debugging is enabled\n",
    "    if debug:\n",
    "        plt.figure(figsize=(10, 8))\n",
    "        dendrogram(Z, truncate_mode='lastp', p=max_k, show_leaf_counts=True, color_threshold=threshold)\n",
    "        plt.axhline(y=threshold, color='r', linestyle='--', label=f\"Threshold = {threshold}\")\n",
    "        plt.title(\"Dendrogram for Optimal K\")\n",
    "        plt.xlabel(\"Cluster Size\")\n",
    "        plt.ylabel(\"Distance\")\n",
    "        plt.legend()\n",
    "        plt.grid()\n",
    "        plt.show()\n",
    "\n",
    "    # Determine the number of clusters based on the distance threshold\n",
    "    optimal_k = sum(Z[:, 2] > threshold) + 1  # Count clusters above threshold\n",
    "\n",
    "    if debug:\n",
    "        print(f\"Optimal K determined by dendrogram analysis with threshold {threshold}: {optimal_k}\")\n",
    "\n",
    "    return optimal_k\n",
    "\n"
   ]
  },
  {
   "cell_type": "code",
   "execution_count": null,
   "metadata": {
    "id": "PrA9u9Y9uwyL"
   },
   "outputs": [],
   "source": [
    "# def SortPoints(M, K = -1):\n",
    "#     '''\n",
    "#     Columns of M are the data points\n",
    "#     K is the number of clusters, if K = -1, this function is to find the number of clusters!\n",
    "\n",
    "#     returns Ms, MsNum\n",
    "#     Ms: the column sorted version of M, similar to what is given by text2mat before shuffle\n",
    "#     MsNum: element count list --> the number of points in each cluster, similar to what text2mat returns\n",
    "#     Note that len(MsNum) = number of letters in the original string\n",
    "#     '''\n",
    "#     # fill in the function so that...\n",
    "#     Ms = None\n",
    "#     MsNum = []\n",
    "\n",
    "\n",
    "#     Ms, MsNum"
   ]
  },
  {
   "cell_type": "code",
   "execution_count": null,
   "metadata": {},
   "outputs": [],
   "source": [
    "\n",
    "\n",
    "def SortPoints(M, K=-1):\n",
    "    \"\"\"\n",
    "    SortPoints with hierarchical clustering and sorting without preprocessing.\n",
    "    Args:\n",
    "        M: Input data matrix (D x N).\n",
    "        K: Number of clusters (-1 for automatic estimation).\n",
    "        max_k: Maximum number of clusters to consider for elbow method.\n",
    "        debug: Enable debug outputs.\n",
    "    Returns:\n",
    "        R: Sorted matrix of points.\n",
    "        Rsum: List of points per cluster.\n",
    "    \"\"\"\n",
    "\n",
    "    max_k = 50\n",
    "    debug= False\n",
    "    # Step 1: Estimate K using the elbow method if not provided\n",
    "    if K == -1:\n",
    "        K = find_optimal_k_dendrogram(M, max_k=max_k, debug=debug)\n",
    "\n",
    "    #print(f\"Estimated number of clusters (K): {K}\")\n",
    "\n",
    "    # Step 2: Perform Hierarchical Clustering\n",
    "    # Compute the pairwise distance matrix\n",
    "    pairwise_distances = pdist(M.T)\n",
    "    # Perform hierarchical clustering\n",
    "    Z = linkage(pairwise_distances, method='ward')\n",
    "    # Assign cluster labels\n",
    "    labels = fcluster(Z, K, criterion='maxclust')\n",
    "\n",
    "    if debug:\n",
    "        print(f\"Cluster labels: {labels}\")\n",
    "\n",
    "    # Step 3: Sort clusters by centroid X-coordinates\n",
    "    centroids = np.array([M[:, labels == i].mean(axis=1) for i in range(1, K + 1)])\n",
    "    sorted_indices = np.argsort(centroids[:, 0])\n",
    "\n",
    "    # Step 4: Group points by sorted clusters\n",
    "    R = []\n",
    "    Rsum = []\n",
    "    for idx in sorted_indices:\n",
    "        cluster_points = M[:, labels == (idx + 1)]  # Labels are 1-indexed\n",
    "        R.append(cluster_points)\n",
    "        Rsum.append(cluster_points.shape[1])\n",
    "\n",
    "    R = np.hstack(R)  # Combine clusters into one matrix\n",
    "    return R, Rsum\n",
    "\n"
   ]
  },
  {
   "cell_type": "markdown",
   "metadata": {},
   "source": [
    "### Explanation of `SortPoints`\n",
    "\n",
    "The `SortPoints` function clusters and sorts data points using hierarchical clustering based on the following steps:\n",
    "\n",
    "1. **Cluster Number Estimation**:\n",
    "   - If `K` (number of clusters) is not provided, the function estimates `K` using `find_optimal_k_dendrogram`.\n",
    "\n",
    "2. **Hierarchical Clustering**:\n",
    "   - Computes pairwise distances using the data matrix $ M $ (shape $ D \\times N $).\n",
    "   - Performs hierarchical clustering using Ward's method to minimize within-cluster variance.\n",
    "   - Assigns cluster labels based on the computed linkage matrix and the determined number of clusters $ K $.\n",
    "\n",
    "3. **Cluster Sorting**:\n",
    "   - Calculates cluster centroids and sorts clusters by their $ X $-coordinates (first dimension of $ M $).\n",
    "   - Groups points in sorted order and outputs the sorted matrix $ R $ and cluster sizes $ R_{\\text{sum}} $.\n",
    "\n",
    "---\n",
    "\n",
    "### Explanation of `find_optimal_k_dendrogram`\n",
    "\n",
    "The `find_optimal_k_dendrogram` function determines the optimal number of clusters ($ K $) using dendrogram analysis:\n",
    "\n",
    "1. **Linkage Matrix**:\n",
    "   - Computes a hierarchical clustering linkage matrix $ Z $ using Ward's method.\n",
    "\n",
    "2. **Dendrogram Visualization** (optional):\n",
    "   - Optionally visualizes the dendrogram with clusters highlighted by a distance threshold.\n",
    "\n",
    "3. **Cluster Number Determination**:\n",
    "   - Counts the number of clusters above the given distance threshold.\n",
    "   - Returns this count as the optimal $ K $.\n",
    "\n",
    "These two functions work together to cluster data and sort points based on hierarchical clustering, ensuring the clusters are sorted spatially."
   ]
  },
  {
   "cell_type": "markdown",
   "metadata": {
    "id": "w6NDDNC9wUiD"
   },
   "source": [
    "### Let's test the sorting function\n",
    "\n",
    "If you have implemented ```SortPints``` properly, following should work.\n",
    "I will only call ```SortPints``` to test your work.\n"
   ]
  },
  {
   "cell_type": "code",
   "execution_count": null,
   "metadata": {
    "id": "oZDbV7isumrn"
   },
   "outputs": [],
   "source": [
    "# let's generate test data\n",
    "St = 'Test Data'\n",
    "Tt, Ttsum = text2mat(St)\n",
    "#in my case I will generate variations of Tt as I did above but for simplicty here I will stick with Tt\n",
    "\n",
    "#I will run one of the following\n",
    "R, Rsum = SortPoints(Tt) # case when k- number of clusters is given -\n",
    "# also check for fun what happens when k is given to be something different then the correct value\n",
    "\n",
    "R, Rsum = SortPoints(Tt, len(Ttsum)) # case when it is not given\n",
    "\n",
    "# finally see the result\n",
    "ColorizeChars(R, Rsum)\n"
   ]
  }
 ],
 "metadata": {
  "colab": {
   "provenance": [],
   "toc_visible": true
  },
  "kernelspec": {
   "display_name": ".venv",
   "language": "python",
   "name": "python3"
  },
  "language_info": {
   "codemirror_mode": {
    "name": "ipython",
    "version": 3
   },
   "file_extension": ".py",
   "mimetype": "text/x-python",
   "name": "python",
   "nbconvert_exporter": "python",
   "pygments_lexer": "ipython3",
   "version": "3.12.3"
  }
 },
 "nbformat": 4,
 "nbformat_minor": 0
}
