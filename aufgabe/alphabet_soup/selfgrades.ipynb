{
 "cells": [
  {
   "cell_type": "markdown",
   "metadata": {},
   "source": [
    "# Fill in the grades based on the results above and the grading guideline  \n",
    "\n",
    "Recall that each plot is upto 10 points, hence row totals is 30 points max.  \n",
    "Under ```Time``` column, enter the time of execution as printed on the title of the relevant plot. As of now, you do not convert execution time to grades, I will asssess it checking out all the submissions later.  \n",
    "\n",
    "\n",
    "\n",
    "| Case  |  KARE |  BUDUR | 6KENAR  | Time | Total Points |\n",
    "|---|---|---|---|---|---|\n",
    "| simplest | 10 | 10 | 10 | 0.015 | 30 |  \n",
    "| simple | 10 | 10 | 10 | 0.036 | 30 |  \n",
    "| test50 | 10 | 7 | 10 | 0.143 | 27 |  \n",
    "| test100 | 10 | 7 | 10 | 5.076 | 27 |  \n",
    "| test150 | 10 | 10 | 10 | 12.086 | 30 |  \n",
    "| test250 | 10 | 7 | 10 | 155.85 | 27 |  \n",
    "| test400 | 10 | 10 | 10 | 793.583 | 30 |  \n",
    "| testInsane | 10 | 10 | 0 | 978.316 and 6kenar interrupted | 20 |  \n",
    "| simplestF | 10 | 10 | 10 | 0.015 | 30 |  \n",
    "| simpleF | 10 | 10 | 10 | 0.04 | 30 |  \n",
    "| test50F | 10 | 7 | 0 | 0.118 | 27 |  \n",
    "| test100F | 10 | 7 | 10 | 3.026 | 27 |  \n",
    "| test150F | 10 | 7 | 10 | 11.124 | 27 |  \n",
    "| test250F | 10 | 10 | 10 | 181.773 | 30 |  \n",
    "| test400F | 10 | 10 | 10 | 561.721 | 30 |  \n",
    "| testInsaneF | 10 | 7 | 0 | 705.618 and 6kenar interrupted | 17 |  \n",
    "\n",
    "Finally enter the sum of Total column and the code edit penalty below:  \n",
    "**Overall Grade = 439**  \n",
    "\n",
    "*Recall that maximum possible grade is 480.*  \n"
   ]
  }
 ],
 "metadata": {
  "language_info": {
   "name": "python"
  }
 },
 "nbformat": 4,
 "nbformat_minor": 2
}
